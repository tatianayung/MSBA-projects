{
  "nbformat": 4,
  "nbformat_minor": 0,
  "metadata": {
    "colab": {
      "name": "Approaches to solve Linear Regression Models.ipynb",
      "provenance": [],
      "authorship_tag": "ABX9TyO/VQLn5ZsRC0jCHRq+bH2M",
      "include_colab_link": true
    },
    "kernelspec": {
      "name": "python3",
      "display_name": "Python 3"
    }
  },
  "cells": [
    {
      "cell_type": "markdown",
      "metadata": {
        "id": "view-in-github",
        "colab_type": "text"
      },
      "source": [
        "<a href=\"https://colab.research.google.com/github/tatianayung/MSBA-projects/blob/main/Approaches_to_solve_Linear_Regression_Models.ipynb\" target=\"_parent\"><img src=\"https://colab.research.google.com/assets/colab-badge.svg\" alt=\"Open In Colab\"/></a>"
      ]
    },
    {
      "cell_type": "markdown",
      "metadata": {
        "id": "cnclxX9v4mH4"
      },
      "source": [
        "Linear Regression is a supervised machine learning algorithm. It predicts a linear relationship between an independent variable (y), based on the given dependant variables (x), such that the independent variable (y) has the lowest cost.\n",
        "\n",
        "\n",
        "```\n",
        "## Different approaches to solve linear regression models ##\n",
        "```\n",
        "\n",
        " \n",
        "\n",
        "There are many different methods that we can apply to our linear regression model in order to make it more efficient. But we will discuss the most common of them here.\n",
        "\n",
        "1. Gradient Descent\n",
        "2. Least Square Method / Normal Equation Method\n",
        "3. Adams Method\n",
        "4. Singular Value Decomposition (SVD)"
      ]
    },
    {
      "cell_type": "markdown",
      "metadata": {
        "id": "1sgImO-z5JMZ"
      },
      "source": [
        "# **Gradient Descent**\n",
        " \n",
        "\n",
        "One of the most common and easiest methods for beginners to solve linear regression problems is gradient descent.\n",
        "\n",
        "How Gradient Descent works\n",
        "\n",
        "Now, let's suppose we have our data plotted out in the form of a scatter graph, and when we apply a cost function to it, our model will make a prediction. Now this prediction can be very good, or it can be far away from our ideal prediction (meaning its cost will be high). So, in order to minimize that cost (error), we apply gradient descent to it.\n",
        "\n",
        "Now, gradient descent will slowly converge our hypothesis towards a global minimum, where the cost would be lowest. In doing so, we have to manually set the value of alpha, and the slope of the hypothesis changes with respect to our alpha’s value. If the value of alpha is large, then it will take big steps. Otherwise, in the case of small alpha, our hypothesis would converge slowly and through small baby steps."
      ]
    },
    {
      "cell_type": "code",
      "metadata": {
        "colab": {
          "base_uri": "https://localhost:8080/",
          "height": 264
        },
        "id": "mqAlgPT74a6V",
        "outputId": "b8046297-37b8-4b5f-f515-0185343e88d8"
      },
      "source": [
        "import numpy as np\n",
        "from matplotlib import pyplot\n",
        "\n",
        "#creating our data\n",
        "X = np.random.rand(10,1)\n",
        "y = np.random.rand(10,1)\n",
        "m = len(y)\n",
        "theta = np.ones(1)\n",
        "\n",
        "#applying gradient descent\n",
        "a = 0.0005\n",
        "cost_list = []\n",
        "for i in range(len(y)):\n",
        "    \n",
        "    theta = theta - a*(1/m)*np.transpose(X)@(X@theta - y)\n",
        "           \n",
        "    cost_val = (1/m)*np.transpose(X)@(X@theta - y)\n",
        "    cost_list.append(cost_val)\n",
        "\n",
        "#Predicting our Hypothesis\n",
        "b = theta\n",
        "yhat = X.dot(b)\n",
        "\n",
        "#Plotting our results\n",
        "pyplot.scatter(X, y, color='red')\n",
        "pyplot.plot(X, yhat, color='blue')\n",
        "pyplot.show()"
      ],
      "execution_count": 1,
      "outputs": [
        {
          "output_type": "display_data",
          "data": {
            "image/png": "[encoded data removed]",
            "text/plain": [
              "<Figure size 432x288 with 1 Axes>"
            ]
          },
          "metadata": {
            "tags": [],
            "needs_background": "light"
          }
        }
      ]
    },
    {
      "cell_type": "markdown",
      "metadata": {
        "id": "-AZ9eTe95516"
      },
      "source": [
        "```\n",
        "Here first, we have created our dataset, and then we looped over all our training examples in order to minimize our cost of hypothesis.\n",
        "\n",
        "Pros:\n",
        "* Less Computational Cost as compared to SVD or ADAM\n",
        "* Running time is O(kn²)\n",
        "* Works well with more number of features\n",
        "\n",
        "Cons:\n",
        "* Need to choose some learning rate α\n",
        "* Needs many iterations to converge\n",
        "* Can be stuck in Local Minima\n",
        "* If not proper Learning Rate α, then it might not converge.\n",
        "\n",
        "```\n",
        "\n"
      ]
    },
    {
      "cell_type": "markdown",
      "metadata": {
        "id": "24m_CFzV6Zjp"
      },
      "source": [
        "# **Least Square Method**\n",
        " \n",
        "\n",
        "The least-square method, also known as the normal equation, is also one of the most common approaches to solving linear regression models easily. But, this one needs to have some basic knowledge of linear algebra.\n",
        "\n",
        "How the least square method works\n",
        "\n",
        "In normal LSM, we solve directly for the value of our coefficient. In short, in one step, we reach our optical minimum point, or we can say only in one step we fit our hypothesis to our data with the lowest cost possible."
      ]
    },
    {
      "cell_type": "code",
      "metadata": {
        "colab": {
          "base_uri": "https://localhost:8080/",
          "height": 267
        },
        "id": "M2NHkFQk6fHy",
        "outputId": "4bf4e1f8-392e-4e57-df5a-1433ff06a2c4"
      },
      "source": [
        "import numpy as np\n",
        "from matplotlib import pyplot\n",
        "\n",
        "#creating our data\n",
        "X = np.random.rand(10,1)\n",
        "y = np.random.rand(10,1)\n",
        "\n",
        "#Computing coefficient\n",
        "b = np.linalg.inv(X.T.dot(X)).dot(X.T).dot(y)\n",
        "\n",
        "#Predicting our Hypothesis\n",
        "yhat = X.dot(b)\n",
        "#Plotting our results\n",
        "pyplot.scatter(X, y, color='red')\n",
        "pyplot.plot(X, yhat, color='blue')\n",
        "pyplot.show()"
      ],
      "execution_count": 2,
      "outputs": [
        {
          "output_type": "display_data",
          "data": {
            "image/png": "[encoded data removed]",
            "text/plain": [
              "<Figure size 432x288 with 1 Axes>"
            ]
          },
          "metadata": {
            "tags": [],
            "needs_background": "light"
          }
        }
      ]
    },
    {
      "cell_type": "markdown",
      "metadata": {
        "id": "Zr9xBwSf6n6f"
      },
      "source": [
        "\n",
        "\n",
        "```\n",
        "Pros:\n",
        "* No Learning Rate\n",
        "* No Iterations\n",
        "* Feature Scaling Not Necessary\n",
        "* Works really well when the Number of Features is less.\n",
        "\n",
        "Cons:\n",
        "* Is computationally expensive when the dataset is big.\n",
        "* Slow when Number of Features is more\n",
        "* Running Time is O(n³)\n",
        "* Sometimes, your X transpose X is non-invertible, i.e., a singular matrix with no inverse. You can use np.linalg.pinv instead of np.linalg.inv to overcome this problem.\n",
        "```\n",
        "\n"
      ]
    },
    {
      "cell_type": "markdown",
      "metadata": {
        "id": "TYrkrwVs62df"
      },
      "source": [
        "# **Adam’s Method**\n",
        " \n",
        "\n",
        "ADAM, which stands for Adaptive Moment Estimation, is an optimization algorithm that is widely used in Deep Learning.\n",
        "\n",
        "It is an iterative algorithm that works well on noisy data.\n",
        "\n",
        "It is the combination of RMSProp and Mini-batch Gradient Descent algorithms.\n",
        "\n",
        "In addition to storing an exponentially decaying average of past squared gradients like Adadelta and RMSprop, Adam also keeps an exponentially decaying average of past gradients, similar to momentum.\n",
        "\n",
        "We compute the decaying averages of past and past squared gradients respectively as follows:\n",
        "\n"
      ]
    },
    {
      "cell_type": "code",
      "metadata": {
        "id": "1-Z3l3yH7Dtk"
      },
      "source": [
        "#Creating the Dummy Data set and importing libraries\n",
        "import math\n",
        "import seaborn as sns\n",
        "import numpy as np \n",
        "from scipy import stats\n",
        "from matplotlib import pyplot\n",
        "x = np.random.normal(0,1,size=(100,1))\n",
        "y = np.random.random(size=(100,1))"
      ],
      "execution_count": 3,
      "outputs": []
    },
    {
      "cell_type": "code",
      "metadata": {
        "colab": {
          "base_uri": "https://localhost:8080/",
          "height": 538
        },
        "id": "A8Yw9yTc7LFL",
        "outputId": "42543add-eff3-4a31-b57f-86cdf08dde28"
      },
      "source": [
        "pyplot.figure(figsize=(15,8))\n",
        "sns.regplot(x,y)\n",
        "pyplot.show()"
      ],
      "execution_count": 4,
      "outputs": [
        {
          "output_type": "stream",
          "text": [
            "/usr/local/lib/python3.6/dist-packages/seaborn/_decorators.py:43: FutureWarning: Pass the following variables as keyword args: x, y. From version 0.12, the only valid positional argument will be `data`, and passing other arguments without an explicit keyword will result in an error or misinterpretation.\n",
            "  FutureWarning\n"
          ],
          "name": "stderr"
        },
        {
          "output_type": "display_data",
          "data": {
            "image/png": "[encoded data removed]",
            "text/plain": [
              "<Figure size 1080x576 with 1 Axes>"
            ]
          },
          "metadata": {
            "tags": [],
            "needs_background": "light"
          }
        }
      ]
    },
    {
      "cell_type": "markdown",
      "metadata": {
        "id": "oiZqJRyY7gZQ"
      },
      "source": [
        "\n",
        "\n",
        "```\n",
        "Pros:\n",
        "\n",
        "* Straightforward to implement.\n",
        "* Computationally efficient.\n",
        "* Little memory requirements.\n",
        "* Invariant to diagonal rescale of the gradients.\n",
        "* Well suited for problems that are large in terms of data and/or parameters.\n",
        "* Appropriate for non-stationary objectives.\n",
        "* Appropriate for problems with very noisy/or sparse gradients.\n",
        "* Hyper-parameters have intuitive interpretation and typically require little * tuning.\n",
        "\n",
        "Cons:\n",
        "* Adam and RMSProp are highly sensitive to certain values of the learning rate (and, sometimes, other hyper-parameters like the batch size), and they can catastrophically fail to converge if e.g., the learning rate is too high.\n",
        "```\n",
        "\n"
      ]
    },
    {
      "cell_type": "markdown",
      "metadata": {
        "id": "zRpejo527wjU"
      },
      "source": [
        "# **Singular Value Decomposition**\n",
        "\n",
        "Singular value decomposition shortened as SVD is one of the famous and most widely used dimensionality reduction methods in linear regression.\n",
        "\n",
        "SVD is used (amongst other uses) as a preprocessing step to reduce the number of dimensions for our learning algorithm. SVD decomposes a matrix into a product of three other matrices (U, S, V)."
      ]
    },
    {
      "cell_type": "code",
      "metadata": {
        "colab": {
          "base_uri": "https://localhost:8080/",
          "height": 264
        },
        "id": "0tBRUt_e75p4",
        "outputId": "8cedc5ff-329c-4ef0-b613-523dfecbad0b"
      },
      "source": [
        "import numpy as np\n",
        "from matplotlib import pyplot\n",
        "\n",
        "#Creating our data\n",
        "X = np.random.rand(10,1)\n",
        "y = np.random.rand(10,1)\n",
        "\n",
        "#Computing coefficient\n",
        "b = np.linalg.pinv(X).dot(y)\n",
        "\n",
        "#Predicting our Hypothesis\n",
        "yhat = X.dot(b)\n",
        "\n",
        "#Plotting our results\n",
        "pyplot.scatter(X, y, color='orange')\n",
        "pyplot.plot(X, yhat, color='blue')\n",
        "pyplot.show()"
      ],
      "execution_count": 8,
      "outputs": [
        {
          "output_type": "display_data",
          "data": {
            "image/png": "[encoded data removed]",
            "text/plain": [
              "<Figure size 432x288 with 1 Axes>"
            ]
          },
          "metadata": {
            "tags": [],
            "needs_background": "light"
          }
        }
      ]
    },
    {
      "cell_type": "markdown",
      "metadata": {
        "id": "rCIEFK_38M67"
      },
      "source": [
        "\n",
        "\n",
        "```\n",
        "Pros:\n",
        "* Works better with higher dimensional data\n",
        "* Good for gaussian type distributed data\n",
        "* Really stable and efficient for a small dataset\n",
        "* While solving linear equations for linear regression, it is more stable and the preferred approach.\n",
        "\n",
        "Cons:\n",
        "* Running time is O(n³)\n",
        "* Multiple risk factors\n",
        "* Really sensitive to outliers\n",
        "* May get unstable with a very large dataset\n",
        "```\n",
        "\n"
      ]
    }
  ]
}