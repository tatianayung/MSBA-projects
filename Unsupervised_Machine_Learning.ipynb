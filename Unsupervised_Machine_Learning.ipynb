{
  "nbformat": 4,
  "nbformat_minor": 0,
  "metadata": {
    "colab": {
      "name": "Unsupervised Machine Learning.ipynb",
      "provenance": [],
      "authorship_tag": "ABX9TyNZk9dDYznK1iAUo8hcuHv4",
      "include_colab_link": true
    },
    "kernelspec": {
      "name": "python3",
      "display_name": "Python 3"
    }
  },
  "cells": [
    {
      "cell_type": "markdown",
      "metadata": {
        "id": "view-in-github",
        "colab_type": "text"
      },
      "source": [
        "<a href=\"https://colab.research.google.com/github/tatianayung/MSBA-projects/blob/main/Unsupervised_Machine_Learning.ipynb\" target=\"_parent\"><img src=\"https://colab.research.google.com/assets/colab-badge.svg\" alt=\"Open In Colab\"/></a>"
      ]
    },
    {
      "cell_type": "markdown",
      "metadata": {
        "id": "T-PuYBxXVxrT"
      },
      "source": [
        "# **Table Content:**\n",
        "\n",
        "\n",
        "\n",
        "---\n",
        "**Part 1**\n",
        "\n",
        "> *   Inspecting clusters\n",
        "> *   Cross tabulation with pandas  \n",
        "> *   Evaluating clusters\n",
        "> *   Transforming features for better clusterings\n",
        "\n",
        "\n",
        "---\n",
        "\n",
        "\n",
        "**Part 2**\n",
        "\n",
        "> *   Visualizing hierarchies w/ (Agglomatarative hierarchial clustering)\n",
        ">> \n",
        "```\n",
        "from scipy.cluster.hierarchy import linkage, dendrogram\n",
        "```\n",
        "\n",
        "\n",
        "> * Hierarchies of stocks\n",
        ">> \n",
        "```\n",
        "from sklearn.preprocessing import normalize\n",
        "```\n",
        "\n",
        "\n",
        "> * Extracting the cluster labels\n",
        ">>\n",
        "```\n",
        "from scipy.cluster.hierarchy import fcluster\n",
        "```\n",
        "\n",
        "> * t-SNE visualization \n",
        "> * t-SNE map of the stock market\n",
        ">>\n",
        "```\n",
        "from sklearn.manifold import TSNE\n",
        "```\n",
        "\n",
        "> * Extracting the cluster labels\n",
        ">>\n",
        "```\n",
        "from scipy.cluster.hierarchy import fcluster\n",
        "```\n",
        "\n",
        "---\n",
        "\n",
        "\n",
        "**Part 3**\n",
        "\n",
        "> *   Visualizing the PCA transformation\n",
        ">> \n",
        "```\n",
        "from scipy.stats import pearsonr\n",
        "```\n",
        "\n",
        "> *   Decorrelation using PCA\n",
        ">> \n",
        "```\n",
        "from sklearn.decomposition import PCA\n",
        "```\n",
        "\n",
        "> *   Clustering Wikipedia text\n",
        ">> \n",
        "```\n",
        "from sklearn.decomposition import TruncatedSVD\n",
        "```\n",
        "\n",
        "---\n",
        "\n",
        "\n",
        "**Part 4**\n",
        "\n",
        "> *   Non-negative matrix factorization (NMF)\n",
        ">> \n",
        "```\n",
        "from sklearn.decomposition import NMF\n",
        "```\n",
        "\n",
        "---\n",
        "\n",
        "\n",
        "\n",
        "\n"
      ]
    },
    {
      "cell_type": "markdown",
      "metadata": {
        "id": "-CHdRDHxheLr"
      },
      "source": [
        "# **PART 1**\n",
        "\n",
        "---\n",
        "\n"
      ]
    },
    {
      "cell_type": "code",
      "metadata": {
        "cellView": "form",
        "id": "AwtCB-eeJV9W"
      },
      "source": [
        "#@title Default title text\n",
        "import pandas as pd\n",
        "import numpy as np\n",
        "import seaborn as sns\n",
        "import matplotlib.pyplot as plt\n",
        "\n",
        "points = np.array([[ 0.06544649, -0.76866376],\n",
        "       [-1.52901547, -0.42953079],\n",
        "       [ 1.70993371,  0.69885253],\n",
        "       [ 1.16779145,  1.01262638],\n",
        "       [-1.80110088, -0.31861296],\n",
        "       [-1.63567888, -0.02859535],\n",
        "       [ 1.21990375,  0.74643463],\n",
        "       [-0.26175155, -0.62492939],\n",
        "       [-1.61925804, -0.47983949],\n",
        "       [-1.84329582, -0.16694431],\n",
        "       [ 1.35999602,  0.94995827],\n",
        "       [ 0.42291856, -0.7349534 ],\n",
        "       [-1.68576139,  0.10686728],\n",
        "       [ 0.90629995,  1.09105162],\n",
        "       [-1.56478322, -0.84675394],\n",
        "       [-0.0257849 , -1.18672539],\n",
        "       [ 0.83027324,  1.14504612],\n",
        "       [ 1.22450432,  1.35066759],\n",
        "       [-0.15394596, -0.71704301],\n",
        "       [ 0.86358809,  1.06824613],\n",
        "       [-1.43386366, -0.2381297 ],\n",
        "       [ 0.03844769, -0.74635022],\n",
        "       [-1.58567922,  0.08499354],\n",
        "       [ 0.6359888 , -0.58477698],\n",
        "       [ 0.24417242, -0.53172465],\n",
        "       [-2.19680359,  0.49473677],\n",
        "       [ 1.0323503 , -0.55688   ],\n",
        "       [-0.28858067, -0.39972528],\n",
        "       [ 0.20597008, -0.80171536],\n",
        "       [-1.2107308 , -0.34924109],\n",
        "       [ 1.33423684,  0.7721489 ],\n",
        "       [ 1.19480152,  1.04788556],\n",
        "       [ 0.9917477 ,  0.89202008],\n",
        "       [-1.8356219 , -0.04839732],\n",
        "       [ 0.08415721, -0.71564326],\n",
        "       [-1.48970175, -0.19299604],\n",
        "       [ 0.38782418, -0.82060119],\n",
        "       [-0.01448044, -0.9779841 ],\n",
        "       [-2.0521341 , -0.02129125],\n",
        "       [ 0.10331194, -0.82162781],\n",
        "       [-0.44189315, -0.65710974],\n",
        "       [ 1.10390926,  1.02481182],\n",
        "       [-1.59227759, -0.17374038],\n",
        "       [-1.47344152, -0.02202853],\n",
        "       [-1.35514704,  0.22971067],\n",
        "       [ 0.0412337 , -1.23776622],\n",
        "       [ 0.4761517 , -1.13672124],\n",
        "       [ 1.04335676,  0.82345905],\n",
        "       [-0.07961882, -0.85677394],\n",
        "       [ 0.87065059,  1.08052841],\n",
        "       [ 1.40267313,  1.07525119],\n",
        "       [ 0.80111157,  1.28342825],\n",
        "       [-0.16527516, -1.23583804],\n",
        "       [-0.33779221, -0.59194323],\n",
        "       [ 0.80610749, -0.73752159],\n",
        "       [-1.43590032, -0.56384446],\n",
        "       [ 0.54868895, -0.95143829],\n",
        "       [ 0.46803131, -0.74973907],\n",
        "       [-1.5137129 , -0.83914323],\n",
        "       [ 0.9138436 ,  1.51126532],\n",
        "       [-1.97233903, -0.41155375],\n",
        "       [ 0.5213406 , -0.88654894],\n",
        "       [ 0.62759494, -1.18590477],\n",
        "       [ 0.94163014,  1.35399335],\n",
        "       [ 0.56994768,  1.07036606],\n",
        "       [-1.87663382,  0.14745773],\n",
        "       [ 0.90612186,  0.91084011],\n",
        "       [-1.37481454,  0.28428395],\n",
        "       [-1.80564029, -0.96710574],\n",
        "       [ 0.34307757, -0.79999275],\n",
        "       [ 0.70380566,  1.00025804],\n",
        "       [-1.68489862, -0.30564595],\n",
        "       [ 1.31473221,  0.98614978],\n",
        "       [ 0.26151216, -0.26069251],\n",
        "       [ 0.9193121 ,  0.82371485],\n",
        "       [-1.21795929, -0.20219674],\n",
        "       [-0.17722723, -1.02665245],\n",
        "       [ 0.64824862, -0.66822881],\n",
        "       [ 0.41206786, -0.28783784],\n",
        "       [ 1.01568202,  1.13481667],\n",
        "       [ 0.67900254, -0.91489502],\n",
        "       [-1.05182747, -0.01062376],\n",
        "       [ 0.61306599,  1.78210384],\n",
        "       [-1.50219748, -0.52308922],\n",
        "       [-1.72717293, -0.46173916],\n",
        "       [-1.60995631, -0.1821007 ],\n",
        "       [-1.09111021, -0.0781398 ],\n",
        "       [-0.01046978, -0.80913034],\n",
        "       [ 0.32782303, -0.80734754],\n",
        "       [ 1.22038503,  1.1959793 ],\n",
        "       [-1.33328681, -0.30001937],\n",
        "       [ 0.87959517,  1.11566491],\n",
        "       [-1.14829098, -0.30400762],\n",
        "       [-0.58019755, -1.19996018],\n",
        "       [-0.01161159, -0.78468854],\n",
        "       [ 0.17359724, -0.63398145],\n",
        "       [ 1.32738556,  0.67759969],\n",
        "       [-1.93467327,  0.30572472],\n",
        "       [-1.57761893, -0.27726365],\n",
        "       [ 0.47639   ,  1.21422648],\n",
        "       [-1.65237509, -0.6803981 ],\n",
        "       [-0.12609976, -1.04327457],\n",
        "       [-1.89607082, -0.70085502],\n",
        "       [ 0.57466899,  0.74878369],\n",
        "       [-0.16660312, -0.83110295],\n",
        "       [ 0.8013355 ,  1.22244435],\n",
        "       [ 1.18455426,  1.4346467 ],\n",
        "       [ 1.08864428,  0.64667112],\n",
        "       [-1.61158505,  0.22805725],\n",
        "       [-1.57512205, -0.09612576],\n",
        "       [ 0.0721357 , -0.69640328],\n",
        "       [-1.40054298,  0.16390598],\n",
        "       [ 1.09607713,  1.16804691],\n",
        "       [-2.54346204, -0.23089822],\n",
        "       [-1.34544875,  0.25151126],\n",
        "       [-1.35478629, -0.19103317],\n",
        "       [ 0.18368113, -1.15827725],\n",
        "       [-1.31368677, -0.376357  ],\n",
        "       [ 0.09990129,  1.22500491],\n",
        "       [ 1.17225574,  1.30835143],\n",
        "       [ 0.0865397 , -0.79714371],\n",
        "       [-0.21053923, -1.13421511],\n",
        "       [ 0.26496024, -0.94760742],\n",
        "       [-0.2557591 , -1.06266022],\n",
        "       [-0.26039757, -0.74774225],\n",
        "       [-1.91787359,  0.16434571],\n",
        "       [ 0.93021139,  0.49436331],\n",
        "       [ 0.44770467, -0.72877918],\n",
        "       [-1.63802869, -0.58925528],\n",
        "       [-1.95712763, -0.10125137],\n",
        "       [ 0.9270337 ,  0.88251423],\n",
        "       [ 1.25660093,  0.60828073],\n",
        "       [-1.72818632,  0.08416887],\n",
        "       [ 0.3499788 , -0.30490298],\n",
        "       [-1.51696082, -0.50913109],\n",
        "       [ 0.18763605, -0.55424924],\n",
        "       [ 0.89609809,  0.83551508],\n",
        "       [-1.54968857, -0.17114782],\n",
        "       [ 1.2157457 ,  1.23317728],\n",
        "       [ 0.20307745, -1.03784906],\n",
        "       [ 0.84589086,  1.03615273],\n",
        "       [ 0.53237919,  1.47362884],\n",
        "       [-0.05319044, -1.36150553],\n",
        "       [ 1.38819743,  1.11729915],\n",
        "       [ 1.00696304,  1.0367721 ],\n",
        "       [ 0.56681869, -1.09637176],\n",
        "       [ 0.86888296,  1.05248874],\n",
        "       [-1.16286609, -0.55875245],\n",
        "       [ 0.27717768, -0.83844015],\n",
        "       [ 0.16563267, -0.80306607],\n",
        "       [ 0.38263303, -0.42683241],\n",
        "       [ 1.14519807,  0.89659026],\n",
        "       [ 0.81455857,  0.67533667],\n",
        "       [-1.8603152 , -0.09537561],\n",
        "       [ 0.965641  ,  0.90295579],\n",
        "       [-1.49897451, -0.33254044],\n",
        "       [-0.1335489 , -0.80727582],\n",
        "       [ 0.12541527, -1.13354906],\n",
        "       [ 1.06062436,  1.28816358],\n",
        "       [-1.49154578, -0.2024641 ],\n",
        "       [ 1.16189032,  1.28819877],\n",
        "       [ 0.54282033,  0.75203524],\n",
        "       [ 0.89221065,  0.99211624],\n",
        "       [-1.49932011, -0.32430667],\n",
        "       [ 0.3166647 , -1.34482915],\n",
        "       [ 0.13972469, -1.22097448],\n",
        "       [-1.5499724 , -0.10782584],\n",
        "       [ 1.23846858,  1.37668804],\n",
        "       [ 1.25558954,  0.72026098],\n",
        "       [ 0.25558689, -1.28529763],\n",
        "       [ 0.45168933, -0.55952093],\n",
        "       [ 1.06202057,  1.03404604],\n",
        "       [ 0.67451908, -0.54970299],\n",
        "       [ 0.22759676, -1.02729468],\n",
        "       [-1.45835281, -0.04951074],\n",
        "       [ 0.23273501, -0.70849262],\n",
        "       [ 1.59679589,  1.11395076],\n",
        "       [ 0.80476105,  0.544627  ],\n",
        "       [ 1.15492521,  1.04352191],\n",
        "       [ 0.59632776, -1.19142897],\n",
        "       [ 0.02839068, -0.43829366],\n",
        "       [ 1.13451584,  0.5632633 ],\n",
        "       [ 0.21576204, -1.04445753],\n",
        "       [ 1.41048987,  1.02830719],\n",
        "       [ 1.12289302,  0.58029441],\n",
        "       [ 0.25200688, -0.82588436],\n",
        "       [-1.28566081, -0.07390909],\n",
        "       [ 1.52849815,  1.11822469],\n",
        "       [-0.23907858, -0.70541972],\n",
        "       [-0.25792784, -0.81825035],\n",
        "       [ 0.59367818, -0.45239915],\n",
        "       [ 0.07931909, -0.29233213],\n",
        "       [-1.27256815,  0.11630577],\n",
        "       [ 0.66930129,  1.00731481],\n",
        "       [ 0.34791546, -1.20822877],\n",
        "       [-2.11283993, -0.66897935],\n",
        "       [-1.6293824 , -0.32718222],\n",
        "       [-1.53819139, -0.01501972],\n",
        "       [-0.11988545, -0.6036339 ],\n",
        "       [-1.54418956, -0.30389844],\n",
        "       [ 0.30026614, -0.77723173],\n",
        "       [ 0.00935449, -0.53888192],\n",
        "       [-1.33424393, -0.11560431],\n",
        "       [ 0.47504489,  0.78421384],\n",
        "       [ 0.59313264,  1.232239  ],\n",
        "       [ 0.41370369, -1.35205857],\n",
        "       [ 0.55840948,  0.78831053],\n",
        "       [ 0.49855018, -0.789949  ],\n",
        "       [ 0.35675809, -0.81038693],\n",
        "       [-1.86197825, -0.59071305],\n",
        "       [-1.61977671, -0.16076687],\n",
        "       [ 0.80779295, -0.73311294],\n",
        "       [ 1.62745775,  0.62787163],\n",
        "       [-1.56993593, -0.08467567],\n",
        "       [ 1.02558561,  0.89383302],\n",
        "       [ 0.24293461, -0.6088253 ],\n",
        "       [ 1.23130242,  1.00262186],\n",
        "       [-1.9651013 , -0.15886289],\n",
        "       [ 0.42795032, -0.70384432],\n",
        "       [-1.58306818, -0.19431923],\n",
        "       [-1.57195922,  0.01413469],\n",
        "       [-0.98145373,  0.06132285],\n",
        "       [-1.48637844, -0.5746531 ],\n",
        "       [ 0.98745828,  0.69188053],\n",
        "       [ 1.28619721,  1.28128821],\n",
        "       [ 0.85850596,  0.95541481],\n",
        "       [ 0.19028286, -0.82112942],\n",
        "       [ 0.26561046, -0.04255239],\n",
        "       [-1.61897897,  0.00862372],\n",
        "       [ 0.24070183, -0.52664209],\n",
        "       [ 1.15220993,  0.43916694],\n",
        "       [-1.21967812, -0.2580313 ],\n",
        "       [ 0.33412533, -0.86117761],\n",
        "       [ 0.17131003, -0.75638965],\n",
        "       [-1.19828397, -0.73744665],\n",
        "       [-0.12245932, -0.45648879],\n",
        "       [ 1.51200698,  0.88825741],\n",
        "       [ 1.10338866,  0.92347479],\n",
        "       [ 1.30972095,  0.59066989],\n",
        "       [ 0.19964876,  1.14855889],\n",
        "       [ 0.81460515,  0.84538972],\n",
        "       [-1.6422739 , -0.42296206],\n",
        "       [ 0.01224351, -0.21247816],\n",
        "       [ 0.33709102, -0.74618065],\n",
        "       [ 0.47301054,  0.72712075],\n",
        "       [ 0.34706626,  1.23033757],\n",
        "       [-0.00393279, -0.97209694],\n",
        "       [-1.64303119,  0.05276337],\n",
        "       [ 1.44649625,  1.14217033],\n",
        "       [-1.93030087, -0.40026146],\n",
        "       [-2.37296135, -0.72633645],\n",
        "       [ 0.45860122, -1.06048953],\n",
        "       [ 0.4896361 , -1.18928313],\n",
        "       [-1.02335902, -0.17520578],\n",
        "       [-1.32761107, -0.93963549],\n",
        "       [-1.50987909, -0.09473658],\n",
        "       [ 0.02723057, -0.79870549],\n",
        "       [ 1.0169412 ,  1.26461701],\n",
        "       [ 0.47733527, -0.9898471 ],\n",
        "       [-1.27784224, -0.547416  ],\n",
        "       [ 0.49898802, -0.6237259 ],\n",
        "       [ 1.06004731,  0.86870008],\n",
        "       [ 1.00207501,  1.38293512],\n",
        "       [ 1.31161394,  0.62833956],\n",
        "       [ 1.13428443,  1.18346542],\n",
        "       [ 1.27671346,  0.96632878],\n",
        "       [-0.63342885, -0.97768251],\n",
        "       [ 0.12698779, -0.93142317],\n",
        "       [-1.34510812, -0.23754226],\n",
        "       [-0.53162278, -1.25153594],\n",
        "       [ 0.21959934, -0.90269938],\n",
        "       [-1.78997479, -0.12115748],\n",
        "       [ 1.23197473, -0.07453764],\n",
        "       [ 1.4163536 ,  1.21551752],\n",
        "       [-1.90280976, -0.1638976 ],\n",
        "       [-0.22440081, -0.75454248],\n",
        "       [ 0.59559412,  0.92414553],\n",
        "       [ 1.21930773,  1.08175284],\n",
        "       [-1.99427535, -0.37587799],\n",
        "       [-1.27818474, -0.52454551],\n",
        "       [ 0.62352689, -1.01430108],\n",
        "       [ 0.14024251, -0.428266  ],\n",
        "       [-0.16145713, -1.16359731],\n",
        "       [-1.74795865, -0.06033101],\n",
        "       [-1.16659791,  0.0902393 ],\n",
        "       [ 0.41110408, -0.8084249 ],\n",
        "       [ 1.14757168,  0.77804528],\n",
        "       [-1.65590748, -0.40105446],\n",
        "       [-1.15306865,  0.00858699],\n",
        "       [ 0.60892121,  0.68974833],\n",
        "       [-0.08434138, -0.97615256],\n",
        "       [ 0.19170053, -0.42331438],\n",
        "       [ 0.29663162, -1.13357399],\n",
        "       [-1.36893628, -0.25052124],\n",
        "       [-0.08037807, -0.56784155],\n",
        "       [ 0.35695011, -1.15064408],\n",
        "       [ 0.02482179, -0.63594828],\n",
        "       [-1.49075558, -0.2482507 ],\n",
        "       [-1.408588  ,  0.25635431],\n",
        "       [-1.98274626, -0.54584475]])"
      ],
      "execution_count": 7,
      "outputs": []
    },
    {
      "cell_type": "code",
      "metadata": {
        "colab": {
          "base_uri": "https://localhost:8080/",
          "height": 282
        },
        "id": "TygOoVDWUVdN",
        "outputId": "a31a13bc-495e-481c-e382-972893928e93"
      },
      "source": [
        "xs = points[:, 0]\n",
        "ys = points[:, 1]\n",
        "\n",
        "plt.scatter(xs, ys)"
      ],
      "execution_count": 8,
      "outputs": [
        {
          "output_type": "execute_result",
          "data": {
            "text/plain": [
              "<matplotlib.collections.PathCollection at 0x7f8f9e7eaef0>"
            ]
          },
          "metadata": {
            "tags": []
          },
          "execution_count": 8
        },
        {
          "output_type": "display_data",
          "data": {
            "image/png": "[encoded data removed]",
            "text/plain": [
              "<Figure size 432x288 with 1 Axes>"
            ]
          },
          "metadata": {
            "tags": [],
            "needs_background": "light"
          }
        }
      ]
    },
    {
      "cell_type": "markdown",
      "metadata": {
        "id": "klBOzmNvQhgb"
      },
      "source": [
        "# Clustering 2D points\n",
        "\n",
        "\n",
        "---\n",
        "\n",
        "\n",
        "You'll now create a KMeans model to find 3 clusters, and fit it to the data points from the previous exercise. After the model has been fit, you'll obtain the cluster labels for some new points using the .predict() method.\n",
        "\n",
        "You are given the array points from the previous exercise, and also an array new_points."
      ]
    },
    {
      "cell_type": "code",
      "metadata": {
        "cellView": "form",
        "id": "CSmAtV7NUC_S"
      },
      "source": [
        "#@title Default title text\n",
        "new_points = np.array([[ 4.00233332e-01, -1.26544471e+00],\n",
        "       [ 8.03230370e-01,  1.28260167e+00],\n",
        "       [-1.39507552e+00,  5.57292921e-02],\n",
        "       [-3.41192677e-01, -1.07661994e+00],\n",
        "       [ 1.54781747e+00,  1.40250049e+00],\n",
        "       [ 2.45032018e-01, -4.83442328e-01],\n",
        "       [ 1.20706886e+00,  8.88752605e-01],\n",
        "       [ 1.25132628e+00,  1.15555395e+00],\n",
        "       [ 1.81004415e+00,  9.65530731e-01],\n",
        "       [-1.66963401e+00, -3.08103509e-01],\n",
        "       [-7.17482105e-02, -9.37939700e-01],\n",
        "       [ 6.82631927e-01,  1.10258160e+00],\n",
        "       [ 1.09039598e+00,  1.43899529e+00],\n",
        "       [-1.67645414e+00, -5.04557049e-01],\n",
        "       [-1.84447804e+00,  4.52539544e-02],\n",
        "       [ 1.24234851e+00,  1.02088661e+00],\n",
        "       [-1.86147041e+00,  6.38645811e-03],\n",
        "       [-1.46044943e+00,  1.53252383e-01],\n",
        "       [ 4.98981817e-01,  8.98006058e-01],\n",
        "       [ 9.83962244e-01,  1.04369375e+00],\n",
        "       [-1.83136742e+00, -1.63632835e-01],\n",
        "       [ 1.30622617e+00,  1.07658717e+00],\n",
        "       [ 3.53420328e-01, -7.51320218e-01],\n",
        "       [ 1.13957970e+00,  1.54503860e+00],\n",
        "       [ 2.93995694e-01, -1.26135005e+00],\n",
        "       [-1.14558225e+00, -3.78709636e-02],\n",
        "       [ 1.18716105e+00,  6.00240663e-01],\n",
        "       [-2.23211946e+00,  2.30475094e-01],\n",
        "       [-1.28320430e+00, -3.93314568e-01],\n",
        "       [ 4.94296696e-01, -8.83972009e-01],\n",
        "       [ 6.31834930e-02, -9.11952228e-01],\n",
        "       [ 9.35759539e-01,  8.66820685e-01],\n",
        "       [ 1.58014721e+00,  1.03788392e+00],\n",
        "       [ 1.06304960e+00,  1.02706082e+00],\n",
        "       [-1.39732536e+00, -5.05162249e-01],\n",
        "       [-1.09935240e-01, -9.08113619e-01],\n",
        "       [ 1.17346758e+00,  9.47501092e-01],\n",
        "       [ 9.20084511e-01,  1.45767672e+00],\n",
        "       [ 5.82658956e-01, -9.00086832e-01],\n",
        "       [ 9.52772328e-01,  8.99042386e-01],\n",
        "       [-1.37266956e+00, -3.17878215e-02],\n",
        "       [ 2.12706760e-02, -7.07614194e-01],\n",
        "       [ 3.27049052e-01, -5.55998107e-01],\n",
        "       [-1.71590267e+00,  2.15222266e-01],\n",
        "       [ 5.12516209e-01, -7.60128245e-01],\n",
        "       [ 1.13023469e+00,  7.22451122e-01],\n",
        "       [-1.43074310e+00, -3.42787511e-01],\n",
        "       [-1.82724625e+00,  1.17657775e-01],\n",
        "       [ 1.41801350e+00,  1.11455080e+00],\n",
        "       [ 1.26897304e+00,  1.41925971e+00],\n",
        "       [ 8.04076494e-01,  1.63988557e+00],\n",
        "       [ 8.34567752e-01,  1.09956689e+00],\n",
        "       [-1.24714732e+00, -2.23522320e-01],\n",
        "       [-1.29422537e+00,  8.18770024e-02],\n",
        "       [-2.27378316e-01, -4.13331387e-01],\n",
        "       [ 2.18830387e-01, -4.68183120e-01],\n",
        "       [-1.22593414e+00,  2.55599147e-01],\n",
        "       [-1.31294033e+00, -4.28892070e-01],\n",
        "       [-1.33532382e+00,  6.52053776e-01],\n",
        "       [-3.01100233e-01, -1.25156451e+00],\n",
        "       [ 2.02778356e-01, -9.05277445e-01],\n",
        "       [ 1.01357784e+00,  1.12378981e+00],\n",
        "       [ 8.18324394e-01,  8.60841257e-01],\n",
        "       [ 1.26181556e+00,  1.46613744e+00],\n",
        "       [ 4.64867724e-01, -7.97212459e-01],\n",
        "       [ 3.60908898e-01,  8.44106720e-01],\n",
        "       [-2.15098310e+00, -3.69583937e-01],\n",
        "       [ 1.05005281e+00,  8.74181364e-01],\n",
        "       [ 1.06580074e-01, -7.49268153e-01],\n",
        "       [-1.73945723e+00,  2.52183577e-01],\n",
        "       [-1.12017687e-01, -6.52469788e-01],\n",
        "       [ 5.16618951e-01, -6.41267582e-01],\n",
        "       [ 3.26621787e-01, -8.80608015e-01],\n",
        "       [ 1.09017759e+00,  1.10952558e+00],\n",
        "       [ 3.64459576e-01, -6.94215622e-01],\n",
        "       [-1.90779318e+00,  1.87383674e-01],\n",
        "       [-1.95601829e+00,  1.39959126e-01],\n",
        "       [ 3.18541701e-01, -4.05271704e-01],\n",
        "       [ 7.36512699e-01,  1.76416255e+00],\n",
        "       [-1.44175162e+00, -5.72320429e-02],\n",
        "       [ 3.21757168e-01, -5.34283821e-01],\n",
        "       [-1.37317305e+00,  4.64484644e-02],\n",
        "       [ 6.87225910e-02, -1.10522944e+00],\n",
        "       [ 9.59314218e-01,  6.52316210e-01],\n",
        "       [-1.62641919e+00, -5.62423280e-01],\n",
        "       [ 1.06788305e+00,  7.29260482e-01],\n",
        "       [-1.79643547e+00, -9.88307418e-01],\n",
        "       [-9.88628377e-02, -6.81198092e-02],\n",
        "       [-1.05135700e-01,  1.17022143e+00],\n",
        "       [ 8.79964699e-01,  1.25340317e+00],\n",
        "       [ 9.80753407e-01,  1.15486539e+00],\n",
        "       [-8.33224966e-02, -9.24844368e-01],\n",
        "       [ 8.48759673e-01,  1.09397425e+00],\n",
        "       [ 1.32941649e+00,  1.13734563e+00],\n",
        "       [ 3.23788068e-01, -7.49732451e-01],\n",
        "       [-1.52610970e+00, -2.49016929e-01],\n",
        "       [-1.48598116e+00, -2.68828608e-01],\n",
        "       [-1.80479553e+00,  1.87052700e-01],\n",
        "       [-2.01907347e+00, -4.49511651e-01],\n",
        "       [ 2.87202402e-01, -6.55487415e-01],\n",
        "       [ 8.22295102e-01,  1.38443234e+00],\n",
        "       [-3.56997036e-02, -8.01825807e-01],\n",
        "       [-1.66955440e+00, -1.38258505e-01],\n",
        "       [-1.78226821e+00,  2.93353033e-01],\n",
        "       [ 7.25837138e-01, -6.23374024e-01],\n",
        "       [ 3.88432593e-01, -7.61283497e-01],\n",
        "       [ 1.49002783e+00,  7.95678671e-01],\n",
        "       [ 6.55423228e-04, -7.40580702e-01],\n",
        "       [-1.34533116e+00, -4.75629937e-01],\n",
        "       [-8.03845106e-01, -3.09943013e-01],\n",
        "       [-2.49041295e-01, -1.00662418e+00],\n",
        "       [-1.41095118e+00, -7.06744127e-02],\n",
        "       [-1.75119594e+00, -3.00491336e-01],\n",
        "       [-1.27942724e+00,  1.73774600e-01],\n",
        "       [ 3.35028183e-01,  6.24761151e-01],\n",
        "       [ 1.16819649e+00,  1.18902251e+00],\n",
        "       [ 7.15210457e-01,  9.26077419e-01],\n",
        "       [ 1.30057278e+00,  9.16349565e-01],\n",
        "       [-1.21697008e+00,  1.10039477e-01],\n",
        "       [-1.70707935e+00, -5.99659536e-02],\n",
        "       [ 1.20730655e+00,  1.05480463e+00],\n",
        "       [ 1.86896009e-01, -9.58047234e-01],\n",
        "       [ 8.03463471e-01,  3.86133140e-01],\n",
        "       [-1.73486790e+00, -1.49831913e-01],\n",
        "       [ 1.31261499e+00,  1.11802982e+00],\n",
        "       [ 4.04993148e-01, -5.10900347e-01],\n",
        "       [-1.93267968e+00,  2.20764694e-01],\n",
        "       [ 6.56004799e-01,  9.61887161e-01],\n",
        "       [-1.40588215e+00,  1.17134403e-01],\n",
        "       [-1.74306264e+00, -7.47473959e-02],\n",
        "       [ 5.43745412e-01,  1.47209224e+00],\n",
        "       [-1.97331669e+00, -2.27124493e-01],\n",
        "       [ 1.53901171e+00,  1.36049081e+00],\n",
        "       [-1.48323452e+00, -4.90302063e-01],\n",
        "       [ 3.86748484e-01, -1.26173400e+00],\n",
        "       [ 1.17015716e+00,  1.18549415e+00],\n",
        "       [-8.05381721e-02, -3.21923627e-01],\n",
        "       [-6.82273156e-02, -8.52825887e-01],\n",
        "       [ 7.13500028e-01,  1.27868520e+00],\n",
        "       [-1.85014378e+00, -5.03490558e-01],\n",
        "       [ 6.36085266e-02, -1.41257040e+00],\n",
        "       [ 1.52966062e+00,  9.66056572e-01],\n",
        "       [ 1.62165714e-01, -1.37374843e+00],\n",
        "       [-3.23474497e-01, -7.06620269e-01],\n",
        "       [-1.51768993e+00,  1.87658302e-01],\n",
        "       [ 8.88895911e-01,  7.62237161e-01],\n",
        "       [ 4.83164032e-01,  8.81931869e-01],\n",
        "       [-5.52997766e-02, -7.11305016e-01],\n",
        "       [-1.57966441e+00, -6.29220313e-01],\n",
        "       [ 5.51308645e-02, -8.47206763e-01],\n",
        "       [-2.06001582e+00,  5.87697787e-02],\n",
        "       [ 1.11810855e+00,  1.30254175e+00],\n",
        "       [ 4.87016164e-01, -9.90143937e-01],\n",
        "       [-1.65518042e+00, -1.69386383e-01],\n",
        "       [-1.44349738e+00,  1.90299243e-01],\n",
        "       [-1.70074547e-01, -8.26736022e-01],\n",
        "       [-1.82433979e+00, -3.07814626e-01],\n",
        "       [ 1.03093485e+00,  1.26457691e+00],\n",
        "       [ 1.64431169e+00,  1.27773115e+00],\n",
        "       [-1.47617693e+00,  2.60783872e-02],\n",
        "       [ 1.00953067e+00,  1.14270181e+00],\n",
        "       [-1.45285636e+00, -2.55216207e-01],\n",
        "       [-1.74092917e+00, -8.34443177e-02],\n",
        "       [ 1.22038299e+00,  1.28699961e+00],\n",
        "       [ 9.16925397e-01,  7.32070275e-01],\n",
        "       [-1.60754185e-03, -7.26375571e-01],\n",
        "       [ 8.93841238e-01,  8.41146643e-01],\n",
        "       [ 6.33791961e-01,  1.00915134e+00],\n",
        "       [-1.47927075e+00, -6.99781936e-01],\n",
        "       [ 5.44799374e-02, -1.06441970e+00],\n",
        "       [-1.51935568e+00, -4.89276929e-01],\n",
        "       [ 2.89939026e-01, -7.73145523e-01],\n",
        "       [-9.68154061e-03, -1.13302207e+00],\n",
        "       [ 1.13474639e+00,  9.71541744e-01],\n",
        "       [ 5.36421406e-01, -8.47906388e-01],\n",
        "       [ 1.14759864e+00,  6.89915205e-01],\n",
        "       [ 5.73291902e-01,  7.90802710e-01],\n",
        "       [ 2.12377397e-01, -6.07569808e-01],\n",
        "       [ 5.26579548e-01, -8.15930264e-01],\n",
        "       [-2.01831641e+00,  6.78650740e-02],\n",
        "       [-2.35512624e-01, -1.08205132e+00],\n",
        "       [ 1.59274780e-01, -6.00717261e-01],\n",
        "       [ 2.28120356e-01, -1.16003549e+00],\n",
        "       [-1.53658378e+00,  8.40798808e-02],\n",
        "       [ 1.13954609e+00,  6.31782001e-01],\n",
        "       [ 1.01119255e+00,  1.04360805e+00],\n",
        "       [-1.42039867e-01, -4.81230337e-01],\n",
        "       [-2.23120182e+00,  8.49162905e-02],\n",
        "       [ 1.25554811e-01, -1.01794793e+00],\n",
        "       [-1.72493509e+00, -6.94426177e-01],\n",
        "       [-1.60434630e+00,  4.45550868e-01],\n",
        "       [ 7.37153979e-01,  9.26560744e-01],\n",
        "       [ 6.72905271e-01,  1.13366030e+00],\n",
        "       [ 1.20066456e+00,  7.26273093e-01],\n",
        "       [ 7.58747209e-02, -9.83378326e-01],\n",
        "       [ 1.28783262e+00,  1.18088601e+00],\n",
        "       [ 1.06521930e+00,  1.00714746e+00],\n",
        "       [ 1.05871698e+00,  1.12956519e+00],\n",
        "       [-1.12643410e+00,  1.66787744e-01],\n",
        "       [-1.10157218e+00, -3.64137806e-01],\n",
        "       [ 2.35118217e-01, -1.39769949e-01],\n",
        "       [ 1.13853795e+00,  1.01018519e+00],\n",
        "       [ 5.31205654e-01, -8.81990792e-01],\n",
        "       [ 4.33085936e-01, -7.64059042e-01],\n",
        "       [-4.48926156e-03, -1.30548411e+00],\n",
        "       [-1.76348589e+00, -4.97430739e-01],\n",
        "       [ 1.36485681e+00,  5.83404699e-01],\n",
        "       [ 5.66923900e-01,  1.51391963e+00],\n",
        "       [ 1.35736826e+00,  6.70915318e-01],\n",
        "       [ 1.07173397e+00,  6.11990884e-01],\n",
        "       [ 1.00106915e+00,  8.93815326e-01],\n",
        "       [ 1.33091007e+00,  8.79773879e-01],\n",
        "       [-1.79603740e+00, -3.53883973e-02],\n",
        "       [-1.27222979e+00,  4.00156642e-01],\n",
        "       [ 8.47480603e-01,  1.17032364e+00],\n",
        "       [-1.50989129e+00, -7.12318330e-01],\n",
        "       [-1.24953576e+00, -5.57859730e-01],\n",
        "       [-1.27717973e+00, -5.99350550e-01],\n",
        "       [-1.81946743e+00,  7.37057673e-01],\n",
        "       [ 1.19949867e+00,  1.56969386e+00],\n",
        "       [-1.25543847e+00, -2.33892826e-01],\n",
        "       [-1.63052058e+00,  1.61455865e-01],\n",
        "       [ 1.10611305e+00,  7.39698224e-01],\n",
        "       [ 6.70193192e-01,  8.70567001e-01],\n",
        "       [ 3.69670156e-01, -6.94645306e-01],\n",
        "       [-1.26362293e+00, -6.99249285e-01],\n",
        "       [-3.66687507e-01, -1.35310260e+00],\n",
        "       [ 2.44032147e-01, -6.59470793e-01],\n",
        "       [-1.27679142e+00, -4.85453412e-01],\n",
        "       [ 3.77473612e-02, -6.99251605e-01],\n",
        "       [-2.19148539e+00, -4.91199500e-01],\n",
        "       [-2.93277777e-01, -5.89488212e-01],\n",
        "       [-1.65737397e+00, -2.98337786e-01],\n",
        "       [ 7.36638861e-01,  5.78037057e-01],\n",
        "       [ 1.13709081e+00,  1.30119754e+00],\n",
        "       [-1.44146601e+00,  3.13934680e-02],\n",
        "       [ 5.92360708e-01,  1.22545114e+00],\n",
        "       [ 6.51719414e-01,  4.92674894e-01],\n",
        "       [ 5.94559139e-01,  8.25637315e-01],\n",
        "       [-1.87900722e+00, -5.21899626e-01],\n",
        "       [ 2.15225041e-01, -1.28269851e+00],\n",
        "       [ 4.99145965e-01, -6.70268634e-01],\n",
        "       [-1.82954176e+00, -3.39269731e-01],\n",
        "       [ 7.92721403e-01,  1.33785606e+00],\n",
        "       [ 9.54363372e-01,  9.80396626e-01],\n",
        "       [-1.35359846e+00,  1.03976340e-01],\n",
        "       [ 1.05595062e+00,  8.07031927e-01],\n",
        "       [-1.94311010e+00, -1.18976964e-01],\n",
        "       [-1.39604137e+00, -3.10095976e-01],\n",
        "       [ 1.28977624e+00,  1.01753365e+00],\n",
        "       [-1.59503139e+00, -5.40574609e-01],\n",
        "       [-1.41994046e+00, -3.81032569e-01],\n",
        "       [-2.35569801e-02, -1.10133702e+00],\n",
        "       [-1.26038568e+00, -6.93273886e-01],\n",
        "       [ 9.60215981e-01, -8.11553694e-01],\n",
        "       [ 5.51803308e-01, -1.01793176e+00],\n",
        "       [ 3.70185085e-01, -1.06885468e+00],\n",
        "       [ 8.25529207e-01,  8.77007060e-01],\n",
        "       [-1.87032595e+00,  2.87507199e-01],\n",
        "       [-1.56260769e+00, -1.89196712e-01],\n",
        "       [-1.26346548e+00, -7.74725237e-01],\n",
        "       [-6.33800421e-02, -7.59400611e-01],\n",
        "       [ 8.85298280e-01,  8.85620519e-01],\n",
        "       [-1.43324686e-01, -1.16083678e+00],\n",
        "       [-1.83908725e+00, -3.26655515e-01],\n",
        "       [ 2.74709229e-01, -1.04546829e+00],\n",
        "       [-1.45703573e+00, -2.91842036e-01],\n",
        "       [-1.59048842e+00,  1.66063031e-01],\n",
        "       [ 9.25549284e-01,  7.41406406e-01],\n",
        "       [ 1.97245469e-01, -7.80703225e-01],\n",
        "       [ 2.88401697e-01, -8.32425551e-01],\n",
        "       [ 7.24141618e-01, -7.99149200e-01],\n",
        "       [-1.62658639e+00, -1.80005543e-01],\n",
        "       [ 5.84481588e-01,  1.13195640e+00],\n",
        "       [ 1.02146732e+00,  4.59657799e-01],\n",
        "       [ 8.65050554e-01,  9.57714887e-01],\n",
        "       [ 3.98717766e-01, -1.24273147e+00],\n",
        "       [ 8.62234892e-01,  1.10955561e+00],\n",
        "       [-1.35999430e+00,  2.49942654e-02],\n",
        "       [-1.19178505e+00, -3.82946323e-02],\n",
        "       [ 1.29392424e+00,  1.10320509e+00],\n",
        "       [ 1.25679630e+00, -7.79857582e-01],\n",
        "       [ 9.38040302e-02, -5.53247258e-01],\n",
        "       [-1.73512175e+00, -9.76271667e-02],\n",
        "       [ 2.23153587e-01, -9.43474351e-01],\n",
        "       [ 4.01989100e-01, -1.10963051e+00],\n",
        "       [-1.42244158e+00,  1.81914703e-01],\n",
        "       [ 3.92476267e-01, -8.78426277e-01],\n",
        "       [ 1.25181875e+00,  6.93614996e-01],\n",
        "       [ 1.77481317e-02, -7.20304235e-01],\n",
        "       [-1.87752521e+00, -2.63870424e-01],\n",
        "       [-1.58063602e+00, -5.50456344e-01],\n",
        "       [-1.59589493e+00, -1.53932892e-01],\n",
        "       [-1.01829770e+00,  3.88542370e-02],\n",
        "       [ 1.24819659e+00,  6.60041803e-01],\n",
        "       [-1.25551377e+00, -2.96172009e-02],\n",
        "       [-1.41864559e+00, -3.58230179e-01],\n",
        "       [ 5.25758326e-01,  8.70500543e-01],\n",
        "       [ 5.55599988e-01,  1.18765072e+00],\n",
        "       [ 2.81344439e-02, -6.99111314e-01]])"
      ],
      "execution_count": 9,
      "outputs": []
    },
    {
      "cell_type": "code",
      "metadata": {
        "colab": {
          "base_uri": "https://localhost:8080/"
        },
        "id": "gR6Qo0erKylo",
        "outputId": "29829f1f-d8fc-4b1f-8e33-ced8fdd2d9fa"
      },
      "source": [
        "# Import KMeans\n",
        "from sklearn.cluster import KMeans\n",
        "\n",
        "# Create a KMeans instance with 3 clusters: model\n",
        "model = KMeans(n_clusters = 3)\n",
        "\n",
        "# Fit model to points\n",
        "model.fit(points)\n",
        "\n",
        "# Determine the cluster labels of new_points: labels\n",
        "labels = model.predict(new_points)\n",
        "\n",
        "# Print cluster labels of new_points\n",
        "print(labels)"
      ],
      "execution_count": 10,
      "outputs": [
        {
          "output_type": "stream",
          "text": [
            "[1 2 0 1 2 1 2 2 2 0 1 2 2 0 0 2 0 0 2 2 0 2 1 2 1 0 2 0 0 1 1 2 2 2 0 1 2\n",
            " 2 1 2 0 1 1 0 1 2 0 0 2 2 2 2 0 0 1 1 0 0 0 1 1 2 2 2 1 2 0 2 1 0 1 1 1 2\n",
            " 1 0 0 1 2 0 1 0 1 2 0 2 0 1 2 2 2 1 2 2 1 0 0 0 0 1 2 1 0 0 1 1 2 1 0 0 1\n",
            " 0 0 0 2 2 2 2 0 0 2 1 2 0 2 1 0 2 0 0 2 0 2 0 1 2 1 1 2 0 1 2 1 1 0 2 2 1\n",
            " 0 1 0 2 1 0 0 1 0 2 2 0 2 0 0 2 2 1 2 2 0 1 0 1 1 2 1 2 2 1 1 0 1 1 1 0 2\n",
            " 2 1 0 1 0 0 2 2 2 1 2 2 2 0 0 1 2 1 1 1 0 2 2 2 2 2 2 0 0 2 0 0 0 0 2 0 0\n",
            " 2 2 1 0 1 1 0 1 0 1 0 2 2 0 2 2 2 0 1 1 0 2 2 0 2 0 0 2 0 0 1 0 1 1 1 2 0\n",
            " 0 0 1 2 1 0 1 0 0 2 1 1 1 0 2 2 2 1 2 0 0 2 1 1 0 1 1 0 1 2 1 0 0 0 0 2 0\n",
            " 0 2 2 1]\n"
          ],
          "name": "stdout"
        }
      ]
    },
    {
      "cell_type": "markdown",
      "metadata": {
        "id": "-VlQelAxQynl"
      },
      "source": [
        "# Inspect your clustering\n",
        "\n",
        "\n",
        "---\n",
        "\n"
      ]
    },
    {
      "cell_type": "code",
      "metadata": {
        "colab": {
          "base_uri": "https://localhost:8080/",
          "height": 282
        },
        "id": "8a3TbGgAKyqX",
        "outputId": "09387c6f-a457-4331-e99e-6188e03997e8"
      },
      "source": [
        "# Import pyplot\n",
        "import matplotlib.pyplot as plt\n",
        "\n",
        "# Assign the columns of new_points: xs and ys\n",
        "xs = new_points[:,0]\n",
        "ys = new_points[:,1]\n",
        "\n",
        "# Make a scatter plot of xs and ys, using labels to define the colors\n",
        "plt.scatter(xs, ys, c=labels, alpha=0.5)\n",
        "\n",
        "# Assign the cluster centers: centroids\n",
        "centroids = model.cluster_centers_\n",
        "\n",
        "# Assign the columns of centroids: centroids_x, centroids_y\n",
        "centroids_x = centroids[:,0]\n",
        "centroids_y = centroids[:,1]\n",
        "\n",
        "# Make a scatter plot of centroids_x and centroids_y\n",
        "plt.scatter(centroids_x, centroids_y, marker='D', s=50, color='red')\n",
        "plt.show()\n",
        "\n",
        "plt.savefig('kmeans-centroid.png')"
      ],
      "execution_count": 11,
      "outputs": [
        {
          "output_type": "display_data",
          "data": {
            "image/png": "[encoded data removed]",
            "text/plain": [
              "<Figure size 432x288 with 1 Axes>"
            ]
          },
          "metadata": {
            "tags": [],
            "needs_background": "light"
          }
        },
        {
          "output_type": "display_data",
          "data": {
            "text/plain": [
              "<Figure size 432x288 with 0 Axes>"
            ]
          },
          "metadata": {
            "tags": []
          }
        }
      ]
    },
    {
      "cell_type": "markdown",
      "metadata": {
        "id": "BklJKgeLZmzx"
      },
      "source": [
        "## Evaluating a clustering\n",
        "\n",
        "\n",
        "---\n",
        "\n",
        "\n",
        "- Evaluating a clustering\n",
        "    - Can check correspondence with e.g. iris species, but what if there are no species to check against?\n",
        "    - Measure quality of a clustering\n",
        "    - Informs choice of how many clusters to look for\n",
        "- Cross-tabulation with pandas\n",
        "    - Clusters vs species is a \"cross-tabulation\"\n",
        "- Measuring clustering quality\n",
        "    - Using only samples and their cluster labels\n",
        "    - A good clustering has tight clusters\n",
        "    - Samples in each cluster bunched together\n",
        "- Inertia measures clustering quality\n",
        "    - Measures how spread out the clusters are (lower is better)\n",
        "    - Distance from each sample to centroid of its cluster\n",
        "    - k-means attempts to minimize the inertia when choosing clusters\n",
        "- How many clusters to choose?\n",
        "    - Choose an \"elbow\" in the inertia plot\n",
        "    - Where inertia begins to decrease more slowly"
      ]
    },
    {
      "cell_type": "code",
      "metadata": {
        "colab": {
          "base_uri": "https://localhost:8080/",
          "height": 197
        },
        "id": "RhOlm2DaVxT-",
        "outputId": "3ed267f1-33b5-4643-caf9-fb8f64cf0cd8"
      },
      "source": [
        "df = pd.read_csv('seeds.csv', header=None)\n",
        "df[7] = df[7].map({1:'Kama wheat', 2:'Rosa wheat', 3:'Canadian wheat'})\n",
        "df.head()"
      ],
      "execution_count": 12,
      "outputs": [
        {
          "output_type": "execute_result",
          "data": {
            "text/html": [
              "<div>\n",
              "<style scoped>\n",
              "    .dataframe tbody tr th:only-of-type {\n",
              "        vertical-align: middle;\n",
              "    }\n",
              "\n",
              "    .dataframe tbody tr th {\n",
              "        vertical-align: top;\n",
              "    }\n",
              "\n",
              "    .dataframe thead th {\n",
              "        text-align: right;\n",
              "    }\n",
              "</style>\n",
              "<table border=\"1\" class=\"dataframe\">\n",
              "  <thead>\n",
              "    <tr style=\"text-align: right;\">\n",
              "      <th></th>\n",
              "      <th>0</th>\n",
              "      <th>1</th>\n",
              "      <th>2</th>\n",
              "      <th>3</th>\n",
              "      <th>4</th>\n",
              "      <th>5</th>\n",
              "      <th>6</th>\n",
              "      <th>7</th>\n",
              "    </tr>\n",
              "  </thead>\n",
              "  <tbody>\n",
              "    <tr>\n",
              "      <th>0</th>\n",
              "      <td>15.26</td>\n",
              "      <td>14.84</td>\n",
              "      <td>0.8710</td>\n",
              "      <td>5.763</td>\n",
              "      <td>3.312</td>\n",
              "      <td>2.221</td>\n",
              "      <td>5.220</td>\n",
              "      <td>Kama wheat</td>\n",
              "    </tr>\n",
              "    <tr>\n",
              "      <th>1</th>\n",
              "      <td>14.88</td>\n",
              "      <td>14.57</td>\n",
              "      <td>0.8811</td>\n",
              "      <td>5.554</td>\n",
              "      <td>3.333</td>\n",
              "      <td>1.018</td>\n",
              "      <td>4.956</td>\n",
              "      <td>Kama wheat</td>\n",
              "    </tr>\n",
              "    <tr>\n",
              "      <th>2</th>\n",
              "      <td>14.29</td>\n",
              "      <td>14.09</td>\n",
              "      <td>0.9050</td>\n",
              "      <td>5.291</td>\n",
              "      <td>3.337</td>\n",
              "      <td>2.699</td>\n",
              "      <td>4.825</td>\n",
              "      <td>Kama wheat</td>\n",
              "    </tr>\n",
              "    <tr>\n",
              "      <th>3</th>\n",
              "      <td>13.84</td>\n",
              "      <td>13.94</td>\n",
              "      <td>0.8955</td>\n",
              "      <td>5.324</td>\n",
              "      <td>3.379</td>\n",
              "      <td>2.259</td>\n",
              "      <td>4.805</td>\n",
              "      <td>Kama wheat</td>\n",
              "    </tr>\n",
              "    <tr>\n",
              "      <th>4</th>\n",
              "      <td>16.14</td>\n",
              "      <td>14.99</td>\n",
              "      <td>0.9034</td>\n",
              "      <td>5.658</td>\n",
              "      <td>3.562</td>\n",
              "      <td>1.355</td>\n",
              "      <td>5.175</td>\n",
              "      <td>Kama wheat</td>\n",
              "    </tr>\n",
              "  </tbody>\n",
              "</table>\n",
              "</div>"
            ],
            "text/plain": [
              "       0      1       2      3      4      5      6           7\n",
              "0  15.26  14.84  0.8710  5.763  3.312  2.221  5.220  Kama wheat\n",
              "1  14.88  14.57  0.8811  5.554  3.333  1.018  4.956  Kama wheat\n",
              "2  14.29  14.09  0.9050  5.291  3.337  2.699  4.825  Kama wheat\n",
              "3  13.84  13.94  0.8955  5.324  3.379  2.259  4.805  Kama wheat\n",
              "4  16.14  14.99  0.9034  5.658  3.562  1.355  5.175  Kama wheat"
            ]
          },
          "metadata": {
            "tags": []
          },
          "execution_count": 12
        }
      ]
    },
    {
      "cell_type": "code",
      "metadata": {
        "id": "kQ2-XTvYa6Su"
      },
      "source": [
        "samples = df.iloc[:, :-1].values\n",
        "varieties = df.iloc[:, :-1].values"
      ],
      "execution_count": 13,
      "outputs": []
    },
    {
      "cell_type": "code",
      "metadata": {
        "colab": {
          "base_uri": "https://localhost:8080/",
          "height": 385
        },
        "id": "XrGskWO2bi94",
        "outputId": "0f209c9b-c941-4986-ab5f-5ec4df4605d0"
      },
      "source": [
        "ks = range(1,6)\n",
        "inertias = []\n",
        "\n",
        "for k in ks:\n",
        "  # Create a KMeans instance with k clusters: model\n",
        "  model = KMeans(n_clusters=k)\n",
        "\n",
        "  # Fit model to samples\n",
        "  model.fit(samples)\n",
        "\n",
        "  # Append the inertia to the list of inertias\n",
        "  inertias.append(model.inertia_)\n",
        "\n",
        "# Plot ks vs inertias\n",
        "plt.plot(ks, inertias, '-o')\n",
        "plt.xlabel('number of cluster, k')\n",
        "plt.ylabel('inertia')\n",
        "plt.xticks(ks)"
      ],
      "execution_count": 14,
      "outputs": [
        {
          "output_type": "execute_result",
          "data": {
            "text/plain": [
              "([<matplotlib.axis.XTick at 0x7f8f98122eb8>,\n",
              "  <matplotlib.axis.XTick at 0x7f8f98122550>,\n",
              "  <matplotlib.axis.XTick at 0x7f8f98122e10>,\n",
              "  <matplotlib.axis.XTick at 0x7f8f9809b7b8>,\n",
              "  <matplotlib.axis.XTick at 0x7f8f98094048>],\n",
              " <a list of 5 Text major ticklabel objects>)"
            ]
          },
          "metadata": {
            "tags": []
          },
          "execution_count": 14
        },
        {
          "output_type": "display_data",
          "data": {
            "image/png": "[encoded data removed]",
            "text/plain": [
              "<Figure size 432x288 with 1 Axes>"
            ]
          },
          "metadata": {
            "tags": [],
            "needs_background": "light"
          }
        }
      ]
    },
    {
      "cell_type": "markdown",
      "metadata": {
        "id": "KzLt3poUe3x7"
      },
      "source": [
        "# CROSS-TAB of sample"
      ]
    },
    {
      "cell_type": "code",
      "metadata": {
        "id": "HChPaldee2lH"
      },
      "source": [
        "# Create a KMeans model with 3 clusters: model\n",
        "model = KMeans(n_clusters=3)\n",
        "\n",
        "# Use fit_predict to fit model and obtain cluster labels: labels\n",
        "labels = model.fit_predict(samples)\n",
        "\n",
        "# Create a DataFrame with labels and varieties as columns: df\n",
        "df = pd.DataFrame({'labels': labels, 'varieties': varieties})\n",
        "\n",
        "# Create crosstab: ct\n",
        "ct = pd.crosstab(df['labels'], df['varieties'])\n",
        "\n",
        "# Display ct\n",
        "print(ct)"
      ],
      "execution_count": null,
      "outputs": []
    },
    {
      "cell_type": "markdown",
      "metadata": {
        "id": "q2wW9h6Vejxx"
      },
      "source": [
        "## Transforming features for better clusterings\n",
        "- StandardScaler\n",
        "    - In kmeans, feature variance = feature influence\n",
        "    - ```StandardScaler``` transforms each feature to have mean 0 and variance 1\n",
        "    - Features are said to be \"standardized\"\n",
        "- StandardScaler, then KMeans\n",
        "    - Need to perform two steps: ```StandardScaler```, then ```KMeans```\n",
        "    - Use ```sklearn``` pipeline to combine multiple steps\n",
        "    - Data flows from one step into the next"
      ]
    },
    {
      "cell_type": "code",
      "metadata": {
        "colab": {
          "base_uri": "https://localhost:8080/",
          "height": 197
        },
        "id": "cbwfCa5Yeuem",
        "outputId": "a3be3eb7-3cfb-403e-ea18-79e0ff94d924"
      },
      "source": [
        "df = pd.read_csv('fish.csv', header=None)\n",
        "df.head()"
      ],
      "execution_count": 16,
      "outputs": [
        {
          "output_type": "execute_result",
          "data": {
            "text/html": [
              "<div>\n",
              "<style scoped>\n",
              "    .dataframe tbody tr th:only-of-type {\n",
              "        vertical-align: middle;\n",
              "    }\n",
              "\n",
              "    .dataframe tbody tr th {\n",
              "        vertical-align: top;\n",
              "    }\n",
              "\n",
              "    .dataframe thead th {\n",
              "        text-align: right;\n",
              "    }\n",
              "</style>\n",
              "<table border=\"1\" class=\"dataframe\">\n",
              "  <thead>\n",
              "    <tr style=\"text-align: right;\">\n",
              "      <th></th>\n",
              "      <th>0</th>\n",
              "      <th>1</th>\n",
              "      <th>2</th>\n",
              "      <th>3</th>\n",
              "      <th>4</th>\n",
              "      <th>5</th>\n",
              "      <th>6</th>\n",
              "    </tr>\n",
              "  </thead>\n",
              "  <tbody>\n",
              "    <tr>\n",
              "      <th>0</th>\n",
              "      <td>Bream</td>\n",
              "      <td>242.0</td>\n",
              "      <td>23.2</td>\n",
              "      <td>25.4</td>\n",
              "      <td>30.0</td>\n",
              "      <td>38.4</td>\n",
              "      <td>13.4</td>\n",
              "    </tr>\n",
              "    <tr>\n",
              "      <th>1</th>\n",
              "      <td>Bream</td>\n",
              "      <td>290.0</td>\n",
              "      <td>24.0</td>\n",
              "      <td>26.3</td>\n",
              "      <td>31.2</td>\n",
              "      <td>40.0</td>\n",
              "      <td>13.8</td>\n",
              "    </tr>\n",
              "    <tr>\n",
              "      <th>2</th>\n",
              "      <td>Bream</td>\n",
              "      <td>340.0</td>\n",
              "      <td>23.9</td>\n",
              "      <td>26.5</td>\n",
              "      <td>31.1</td>\n",
              "      <td>39.8</td>\n",
              "      <td>15.1</td>\n",
              "    </tr>\n",
              "    <tr>\n",
              "      <th>3</th>\n",
              "      <td>Bream</td>\n",
              "      <td>363.0</td>\n",
              "      <td>26.3</td>\n",
              "      <td>29.0</td>\n",
              "      <td>33.5</td>\n",
              "      <td>38.0</td>\n",
              "      <td>13.3</td>\n",
              "    </tr>\n",
              "    <tr>\n",
              "      <th>4</th>\n",
              "      <td>Bream</td>\n",
              "      <td>430.0</td>\n",
              "      <td>26.5</td>\n",
              "      <td>29.0</td>\n",
              "      <td>34.0</td>\n",
              "      <td>36.6</td>\n",
              "      <td>15.1</td>\n",
              "    </tr>\n",
              "  </tbody>\n",
              "</table>\n",
              "</div>"
            ],
            "text/plain": [
              "       0      1     2     3     4     5     6\n",
              "0  Bream  242.0  23.2  25.4  30.0  38.4  13.4\n",
              "1  Bream  290.0  24.0  26.3  31.2  40.0  13.8\n",
              "2  Bream  340.0  23.9  26.5  31.1  39.8  15.1\n",
              "3  Bream  363.0  26.3  29.0  33.5  38.0  13.3\n",
              "4  Bream  430.0  26.5  29.0  34.0  36.6  15.1"
            ]
          },
          "metadata": {
            "tags": []
          },
          "execution_count": 16
        }
      ]
    },
    {
      "cell_type": "code",
      "metadata": {
        "id": "Tz35hSBHe0_l"
      },
      "source": [
        "samples = df.iloc[:, 1:].values\n",
        "species = df.iloc[:, 0].values"
      ],
      "execution_count": 17,
      "outputs": []
    },
    {
      "cell_type": "code",
      "metadata": {
        "colab": {
          "base_uri": "https://localhost:8080/"
        },
        "id": "gFgFIJv9e1rF",
        "outputId": "6722f036-6c8a-4a1a-bde6-0929d910a1bf"
      },
      "source": [
        "from sklearn.pipeline import make_pipeline\n",
        "from sklearn.preprocessing import StandardScaler\n",
        "from sklearn.cluster import KMeans\n",
        "\n",
        "# Create scaler: scaler\n",
        "scaler = StandardScaler()\n",
        "\n",
        "# Create KMeans instance: kmeans\n",
        "kmeans = KMeans(n_clusters=4)\n",
        "\n",
        "# Create pipeline: pipeline\n",
        "pipeline = make_pipeline(scaler, kmeans)\n",
        "\n",
        "# Fit the pipeline to samples\n",
        "pipeline.fit(samples)\n",
        "\n",
        "# Calculate the cluster labels: labels\n",
        "labels = pipeline.predict(samples)\n",
        "\n",
        "# Create a DataFrame with labels and species as columns: df\n",
        "df = pd.DataFrame({'labels': labels, 'species': species})\n",
        "\n",
        "# Create crosstab: ct\n",
        "ct = pd.crosstab(df['labels'], df['species'])\n",
        "\n",
        "# Display ct\n",
        "print(ct)"
      ],
      "execution_count": 18,
      "outputs": [
        {
          "output_type": "stream",
          "text": [
            "species  Bream  Pike  Roach  Smelt\n",
            "labels                            \n",
            "0            1     0     19      1\n",
            "1            0    17      0      0\n",
            "2           33     0      1      0\n",
            "3            0     0      0     13\n"
          ],
          "name": "stdout"
        }
      ]
    },
    {
      "cell_type": "markdown",
      "metadata": {
        "id": "riffh7oJfjtQ"
      },
      "source": [
        "### Clustering stocks using KMeans\n"
      ]
    },
    {
      "cell_type": "code",
      "metadata": {
        "colab": {
          "base_uri": "https://localhost:8080/",
          "height": 280
        },
        "id": "wOPZs9b_fFWP",
        "outputId": "b761ccf0-f804-4118-8411-03b71ad95d26"
      },
      "source": [
        "df = pd.read_csv('company-stock-movements-2010-2015-incl.csv', index_col=0)\n",
        "df.head()"
      ],
      "execution_count": 19,
      "outputs": [
        {
          "output_type": "execute_result",
          "data": {
            "text/html": [
              "<div>\n",
              "<style scoped>\n",
              "    .dataframe tbody tr th:only-of-type {\n",
              "        vertical-align: middle;\n",
              "    }\n",
              "\n",
              "    .dataframe tbody tr th {\n",
              "        vertical-align: top;\n",
              "    }\n",
              "\n",
              "    .dataframe thead th {\n",
              "        text-align: right;\n",
              "    }\n",
              "</style>\n",
              "<table border=\"1\" class=\"dataframe\">\n",
              "  <thead>\n",
              "    <tr style=\"text-align: right;\">\n",
              "      <th></th>\n",
              "      <th>2010-01-04</th>\n",
              "      <th>2010-01-05</th>\n",
              "      <th>2010-01-06</th>\n",
              "      <th>2010-01-07</th>\n",
              "      <th>2010-01-08</th>\n",
              "      <th>2010-01-11</th>\n",
              "      <th>2010-01-12</th>\n",
              "      <th>2010-01-13</th>\n",
              "      <th>2010-01-14</th>\n",
              "      <th>2010-01-15</th>\n",
              "      <th>2010-01-19</th>\n",
              "      <th>2010-01-20</th>\n",
              "      <th>2010-01-21</th>\n",
              "      <th>2010-01-22</th>\n",
              "      <th>2010-01-25</th>\n",
              "      <th>2010-01-26</th>\n",
              "      <th>2010-01-27</th>\n",
              "      <th>2010-01-28</th>\n",
              "      <th>2010-01-29</th>\n",
              "      <th>2010-02-01</th>\n",
              "      <th>2010-02-02</th>\n",
              "      <th>2010-02-03</th>\n",
              "      <th>2010-02-04</th>\n",
              "      <th>2010-02-05</th>\n",
              "      <th>2010-02-08</th>\n",
              "      <th>2010-02-09</th>\n",
              "      <th>2010-02-10</th>\n",
              "      <th>2010-02-11</th>\n",
              "      <th>2010-02-12</th>\n",
              "      <th>2010-02-16</th>\n",
              "      <th>2010-02-17</th>\n",
              "      <th>2010-02-18</th>\n",
              "      <th>2010-02-19</th>\n",
              "      <th>2010-02-22</th>\n",
              "      <th>2010-02-23</th>\n",
              "      <th>2010-02-24</th>\n",
              "      <th>2010-02-25</th>\n",
              "      <th>2010-02-26</th>\n",
              "      <th>2010-03-01</th>\n",
              "      <th>2010-03-02</th>\n",
              "      <th>...</th>\n",
              "      <th>2013-09-04</th>\n",
              "      <th>2013-09-05</th>\n",
              "      <th>2013-09-06</th>\n",
              "      <th>2013-09-09</th>\n",
              "      <th>2013-09-10</th>\n",
              "      <th>2013-09-11</th>\n",
              "      <th>2013-09-12</th>\n",
              "      <th>2013-09-13</th>\n",
              "      <th>2013-09-16</th>\n",
              "      <th>2013-09-17</th>\n",
              "      <th>2013-09-18</th>\n",
              "      <th>2013-09-19</th>\n",
              "      <th>2013-09-20</th>\n",
              "      <th>2013-09-23</th>\n",
              "      <th>2013-09-24</th>\n",
              "      <th>2013-09-25</th>\n",
              "      <th>2013-09-26</th>\n",
              "      <th>2013-09-27</th>\n",
              "      <th>2013-09-30</th>\n",
              "      <th>2013-10-01</th>\n",
              "      <th>2013-10-02</th>\n",
              "      <th>2013-10-03</th>\n",
              "      <th>2013-10-04</th>\n",
              "      <th>2013-10-07</th>\n",
              "      <th>2013-10-08</th>\n",
              "      <th>2013-10-09</th>\n",
              "      <th>2013-10-10</th>\n",
              "      <th>2013-10-11</th>\n",
              "      <th>2013-10-14</th>\n",
              "      <th>2013-10-15</th>\n",
              "      <th>2013-10-16</th>\n",
              "      <th>2013-10-17</th>\n",
              "      <th>2013-10-18</th>\n",
              "      <th>2013-10-21</th>\n",
              "      <th>2013-10-22</th>\n",
              "      <th>2013-10-23</th>\n",
              "      <th>2013-10-24</th>\n",
              "      <th>2013-10-25</th>\n",
              "      <th>2013-10-28</th>\n",
              "      <th>2013-10-29</th>\n",
              "    </tr>\n",
              "  </thead>\n",
              "  <tbody>\n",
              "    <tr>\n",
              "      <th>Apple</th>\n",
              "      <td>0.580000</td>\n",
              "      <td>-0.220005</td>\n",
              "      <td>-3.409998</td>\n",
              "      <td>-1.170000</td>\n",
              "      <td>1.680011</td>\n",
              "      <td>-2.689994</td>\n",
              "      <td>-1.469994</td>\n",
              "      <td>2.779997</td>\n",
              "      <td>-0.680003</td>\n",
              "      <td>-4.999995</td>\n",
              "      <td>6.709993</td>\n",
              "      <td>-3.180006</td>\n",
              "      <td>-4.009998</td>\n",
              "      <td>-9.030006</td>\n",
              "      <td>0.560000</td>\n",
              "      <td>-0.010000</td>\n",
              "      <td>1.030010</td>\n",
              "      <td>-5.640009</td>\n",
              "      <td>-9.019993</td>\n",
              "      <td>2.360001</td>\n",
              "      <td>-0.050001</td>\n",
              "      <td>4.060000</td>\n",
              "      <td>-4.680000</td>\n",
              "      <td>2.829998</td>\n",
              "      <td>-1.570009</td>\n",
              "      <td>-0.229992</td>\n",
              "      <td>-0.769990</td>\n",
              "      <td>3.789993</td>\n",
              "      <td>2.269998</td>\n",
              "      <td>1.459994</td>\n",
              "      <td>-1.639998</td>\n",
              "      <td>1.300003</td>\n",
              "      <td>-0.190005</td>\n",
              "      <td>-1.920004</td>\n",
              "      <td>-2.940000</td>\n",
              "      <td>2.430002</td>\n",
              "      <td>4.619999</td>\n",
              "      <td>2.239998</td>\n",
              "      <td>3.240008</td>\n",
              "      <td>-1.079998</td>\n",
              "      <td>...</td>\n",
              "      <td>-0.869980</td>\n",
              "      <td>-4.980034</td>\n",
              "      <td>-0.219979</td>\n",
              "      <td>1.169960</td>\n",
              "      <td>-11.559998</td>\n",
              "      <td>0.699989</td>\n",
              "      <td>4.190003</td>\n",
              "      <td>-4.439995</td>\n",
              "      <td>-10.879982</td>\n",
              "      <td>7.360008</td>\n",
              "      <td>1.500008</td>\n",
              "      <td>1.599983</td>\n",
              "      <td>-10.589988</td>\n",
              "      <td>-5.459991</td>\n",
              "      <td>-5.779999</td>\n",
              "      <td>-7.669976</td>\n",
              "      <td>0.219979</td>\n",
              "      <td>-1.029983</td>\n",
              "      <td>-0.500038</td>\n",
              "      <td>9.510018</td>\n",
              "      <td>3.929970</td>\n",
              "      <td>-7.100029</td>\n",
              "      <td>-0.829979</td>\n",
              "      <td>1.190040</td>\n",
              "      <td>-9.000045</td>\n",
              "      <td>1.950005</td>\n",
              "      <td>-1.679985</td>\n",
              "      <td>5.820000</td>\n",
              "      <td>6.209969</td>\n",
              "      <td>1.169960</td>\n",
              "      <td>0.320008</td>\n",
              "      <td>4.519997</td>\n",
              "      <td>2.899987</td>\n",
              "      <td>9.590019</td>\n",
              "      <td>-6.540016</td>\n",
              "      <td>5.959976</td>\n",
              "      <td>6.910011</td>\n",
              "      <td>-5.359962</td>\n",
              "      <td>0.840019</td>\n",
              "      <td>-19.589981</td>\n",
              "    </tr>\n",
              "    <tr>\n",
              "      <th>AIG</th>\n",
              "      <td>-0.640002</td>\n",
              "      <td>-0.650000</td>\n",
              "      <td>-0.210001</td>\n",
              "      <td>-0.420000</td>\n",
              "      <td>0.710001</td>\n",
              "      <td>-0.200001</td>\n",
              "      <td>-1.130001</td>\n",
              "      <td>0.069999</td>\n",
              "      <td>-0.119999</td>\n",
              "      <td>-0.500000</td>\n",
              "      <td>0.200001</td>\n",
              "      <td>-0.100000</td>\n",
              "      <td>-0.460001</td>\n",
              "      <td>-1.190001</td>\n",
              "      <td>-0.650000</td>\n",
              "      <td>-1.300001</td>\n",
              "      <td>0.430000</td>\n",
              "      <td>-1.690000</td>\n",
              "      <td>-0.300001</td>\n",
              "      <td>-0.420000</td>\n",
              "      <td>-0.020001</td>\n",
              "      <td>-0.099998</td>\n",
              "      <td>-0.940001</td>\n",
              "      <td>-0.090000</td>\n",
              "      <td>-0.250000</td>\n",
              "      <td>0.760000</td>\n",
              "      <td>3.710001</td>\n",
              "      <td>-0.200001</td>\n",
              "      <td>1.000000</td>\n",
              "      <td>0.000000</td>\n",
              "      <td>-0.630001</td>\n",
              "      <td>0.299999</td>\n",
              "      <td>-0.010000</td>\n",
              "      <td>1.540001</td>\n",
              "      <td>-1.459999</td>\n",
              "      <td>0.830000</td>\n",
              "      <td>0.069999</td>\n",
              "      <td>-0.900000</td>\n",
              "      <td>-2.179998</td>\n",
              "      <td>-0.899999</td>\n",
              "      <td>...</td>\n",
              "      <td>0.680000</td>\n",
              "      <td>0.229999</td>\n",
              "      <td>-0.720002</td>\n",
              "      <td>0.829998</td>\n",
              "      <td>-0.130001</td>\n",
              "      <td>0.340000</td>\n",
              "      <td>-0.620003</td>\n",
              "      <td>0.320000</td>\n",
              "      <td>-0.470001</td>\n",
              "      <td>0.790001</td>\n",
              "      <td>0.279999</td>\n",
              "      <td>-0.930000</td>\n",
              "      <td>-0.020000</td>\n",
              "      <td>-0.439998</td>\n",
              "      <td>0.100003</td>\n",
              "      <td>0.190003</td>\n",
              "      <td>-0.239998</td>\n",
              "      <td>-0.029998</td>\n",
              "      <td>0.020000</td>\n",
              "      <td>0.579998</td>\n",
              "      <td>0.350002</td>\n",
              "      <td>-0.210003</td>\n",
              "      <td>0.660000</td>\n",
              "      <td>-0.310001</td>\n",
              "      <td>-1.099998</td>\n",
              "      <td>0.050000</td>\n",
              "      <td>1.290001</td>\n",
              "      <td>0.330002</td>\n",
              "      <td>0.599999</td>\n",
              "      <td>-0.160000</td>\n",
              "      <td>0.919998</td>\n",
              "      <td>0.709999</td>\n",
              "      <td>0.119999</td>\n",
              "      <td>-0.480000</td>\n",
              "      <td>0.010002</td>\n",
              "      <td>-0.279998</td>\n",
              "      <td>-0.190003</td>\n",
              "      <td>-0.040001</td>\n",
              "      <td>-0.400002</td>\n",
              "      <td>0.660000</td>\n",
              "    </tr>\n",
              "    <tr>\n",
              "      <th>Amazon</th>\n",
              "      <td>-2.350006</td>\n",
              "      <td>1.260009</td>\n",
              "      <td>-2.350006</td>\n",
              "      <td>-2.009995</td>\n",
              "      <td>2.960006</td>\n",
              "      <td>-2.309997</td>\n",
              "      <td>-1.640007</td>\n",
              "      <td>1.209999</td>\n",
              "      <td>-1.790001</td>\n",
              "      <td>-2.039994</td>\n",
              "      <td>1.300003</td>\n",
              "      <td>-1.349998</td>\n",
              "      <td>-0.639999</td>\n",
              "      <td>-4.169998</td>\n",
              "      <td>-1.790000</td>\n",
              "      <td>-1.079995</td>\n",
              "      <td>1.720001</td>\n",
              "      <td>1.599999</td>\n",
              "      <td>-4.360000</td>\n",
              "      <td>-4.309997</td>\n",
              "      <td>-0.669998</td>\n",
              "      <td>1.979995</td>\n",
              "      <td>-2.699997</td>\n",
              "      <td>1.510002</td>\n",
              "      <td>-2.549995</td>\n",
              "      <td>-0.169998</td>\n",
              "      <td>-0.639999</td>\n",
              "      <td>2.879997</td>\n",
              "      <td>0.670006</td>\n",
              "      <td>-2.529999</td>\n",
              "      <td>-0.760002</td>\n",
              "      <td>2.240006</td>\n",
              "      <td>-0.390007</td>\n",
              "      <td>0.639999</td>\n",
              "      <td>-0.770004</td>\n",
              "      <td>1.760002</td>\n",
              "      <td>0.029999</td>\n",
              "      <td>0.520005</td>\n",
              "      <td>5.840004</td>\n",
              "      <td>0.519997</td>\n",
              "      <td>...</td>\n",
              "      <td>5.310028</td>\n",
              "      <td>0.470001</td>\n",
              "      <td>0.529998</td>\n",
              "      <td>2.489990</td>\n",
              "      <td>-0.190003</td>\n",
              "      <td>0.730011</td>\n",
              "      <td>-0.530030</td>\n",
              "      <td>-2.220002</td>\n",
              "      <td>-3.760009</td>\n",
              "      <td>6.540008</td>\n",
              "      <td>7.970001</td>\n",
              "      <td>-1.709991</td>\n",
              "      <td>3.799987</td>\n",
              "      <td>-2.520020</td>\n",
              "      <td>1.700012</td>\n",
              "      <td>-1.880005</td>\n",
              "      <td>4.220001</td>\n",
              "      <td>-0.910003</td>\n",
              "      <td>-0.769989</td>\n",
              "      <td>6.730011</td>\n",
              "      <td>2.470001</td>\n",
              "      <td>-5.630005</td>\n",
              "      <td>3.910004</td>\n",
              "      <td>-5.209991</td>\n",
              "      <td>-8.269989</td>\n",
              "      <td>-5.190002</td>\n",
              "      <td>0.540008</td>\n",
              "      <td>6.120026</td>\n",
              "      <td>1.480011</td>\n",
              "      <td>-3.470001</td>\n",
              "      <td>2.109985</td>\n",
              "      <td>3.699982</td>\n",
              "      <td>9.570008</td>\n",
              "      <td>-3.450013</td>\n",
              "      <td>4.820008</td>\n",
              "      <td>-4.079986</td>\n",
              "      <td>2.579986</td>\n",
              "      <td>4.790009</td>\n",
              "      <td>-1.760009</td>\n",
              "      <td>3.740021</td>\n",
              "    </tr>\n",
              "    <tr>\n",
              "      <th>American express</th>\n",
              "      <td>0.109997</td>\n",
              "      <td>0.000000</td>\n",
              "      <td>0.260002</td>\n",
              "      <td>0.720002</td>\n",
              "      <td>0.190003</td>\n",
              "      <td>-0.270001</td>\n",
              "      <td>0.750000</td>\n",
              "      <td>0.300004</td>\n",
              "      <td>0.639999</td>\n",
              "      <td>-0.130001</td>\n",
              "      <td>0.719997</td>\n",
              "      <td>0.050000</td>\n",
              "      <td>-0.830002</td>\n",
              "      <td>-2.770001</td>\n",
              "      <td>-1.309997</td>\n",
              "      <td>0.559997</td>\n",
              "      <td>0.709999</td>\n",
              "      <td>-1.239998</td>\n",
              "      <td>0.060002</td>\n",
              "      <td>0.369999</td>\n",
              "      <td>0.340000</td>\n",
              "      <td>-0.579998</td>\n",
              "      <td>-0.500000</td>\n",
              "      <td>0.189998</td>\n",
              "      <td>-0.969997</td>\n",
              "      <td>0.270001</td>\n",
              "      <td>0.169998</td>\n",
              "      <td>0.480000</td>\n",
              "      <td>0.629997</td>\n",
              "      <td>0.809998</td>\n",
              "      <td>-0.480000</td>\n",
              "      <td>0.080002</td>\n",
              "      <td>0.170002</td>\n",
              "      <td>-0.169998</td>\n",
              "      <td>-0.810002</td>\n",
              "      <td>0.310002</td>\n",
              "      <td>0.370003</td>\n",
              "      <td>0.039997</td>\n",
              "      <td>-0.070000</td>\n",
              "      <td>0.270000</td>\n",
              "      <td>...</td>\n",
              "      <td>0.620002</td>\n",
              "      <td>0.639999</td>\n",
              "      <td>-0.570000</td>\n",
              "      <td>0.070008</td>\n",
              "      <td>0.379997</td>\n",
              "      <td>0.480003</td>\n",
              "      <td>0.000000</td>\n",
              "      <td>-0.279999</td>\n",
              "      <td>-0.739998</td>\n",
              "      <td>1.320000</td>\n",
              "      <td>0.650001</td>\n",
              "      <td>-0.239998</td>\n",
              "      <td>-0.300003</td>\n",
              "      <td>-0.849999</td>\n",
              "      <td>-0.319999</td>\n",
              "      <td>-0.139999</td>\n",
              "      <td>0.320000</td>\n",
              "      <td>-0.169999</td>\n",
              "      <td>0.549996</td>\n",
              "      <td>0.290001</td>\n",
              "      <td>-0.549995</td>\n",
              "      <td>-0.090004</td>\n",
              "      <td>0.430001</td>\n",
              "      <td>-0.559998</td>\n",
              "      <td>-0.809998</td>\n",
              "      <td>-0.159996</td>\n",
              "      <td>1.470002</td>\n",
              "      <td>0.730004</td>\n",
              "      <td>0.739998</td>\n",
              "      <td>-0.379997</td>\n",
              "      <td>0.680001</td>\n",
              "      <td>2.290001</td>\n",
              "      <td>0.409996</td>\n",
              "      <td>-0.069999</td>\n",
              "      <td>0.100006</td>\n",
              "      <td>0.069999</td>\n",
              "      <td>0.130005</td>\n",
              "      <td>1.849999</td>\n",
              "      <td>0.040001</td>\n",
              "      <td>0.540001</td>\n",
              "    </tr>\n",
              "    <tr>\n",
              "      <th>Boeing</th>\n",
              "      <td>0.459999</td>\n",
              "      <td>1.770000</td>\n",
              "      <td>1.549999</td>\n",
              "      <td>2.690003</td>\n",
              "      <td>0.059997</td>\n",
              "      <td>-1.080002</td>\n",
              "      <td>0.360000</td>\n",
              "      <td>0.549999</td>\n",
              "      <td>0.530002</td>\n",
              "      <td>-0.709999</td>\n",
              "      <td>0.050004</td>\n",
              "      <td>-0.130001</td>\n",
              "      <td>-1.099998</td>\n",
              "      <td>-0.849999</td>\n",
              "      <td>-0.569999</td>\n",
              "      <td>0.169998</td>\n",
              "      <td>3.090000</td>\n",
              "      <td>0.409999</td>\n",
              "      <td>-2.200001</td>\n",
              "      <td>0.959999</td>\n",
              "      <td>0.649998</td>\n",
              "      <td>-0.060001</td>\n",
              "      <td>-1.630001</td>\n",
              "      <td>-0.809997</td>\n",
              "      <td>-0.440003</td>\n",
              "      <td>1.120003</td>\n",
              "      <td>-0.169998</td>\n",
              "      <td>0.840000</td>\n",
              "      <td>-0.219997</td>\n",
              "      <td>0.840000</td>\n",
              "      <td>0.430001</td>\n",
              "      <td>1.110000</td>\n",
              "      <td>0.939998</td>\n",
              "      <td>0.389999</td>\n",
              "      <td>-1.040001</td>\n",
              "      <td>0.480000</td>\n",
              "      <td>0.149998</td>\n",
              "      <td>0.070000</td>\n",
              "      <td>0.950001</td>\n",
              "      <td>-0.199997</td>\n",
              "      <td>...</td>\n",
              "      <td>1.320000</td>\n",
              "      <td>0.489998</td>\n",
              "      <td>-0.930000</td>\n",
              "      <td>0.610000</td>\n",
              "      <td>0.529999</td>\n",
              "      <td>0.980003</td>\n",
              "      <td>0.610001</td>\n",
              "      <td>1.400002</td>\n",
              "      <td>1.939995</td>\n",
              "      <td>1.330002</td>\n",
              "      <td>1.120003</td>\n",
              "      <td>-0.180000</td>\n",
              "      <td>-2.520005</td>\n",
              "      <td>0.360000</td>\n",
              "      <td>1.809998</td>\n",
              "      <td>-0.809998</td>\n",
              "      <td>0.669998</td>\n",
              "      <td>0.229996</td>\n",
              "      <td>0.150002</td>\n",
              "      <td>-0.220001</td>\n",
              "      <td>0.459999</td>\n",
              "      <td>-2.110000</td>\n",
              "      <td>1.930000</td>\n",
              "      <td>1.180000</td>\n",
              "      <td>-1.229996</td>\n",
              "      <td>-0.930001</td>\n",
              "      <td>2.800004</td>\n",
              "      <td>-0.619995</td>\n",
              "      <td>2.040001</td>\n",
              "      <td>-1.239998</td>\n",
              "      <td>1.559997</td>\n",
              "      <td>2.480003</td>\n",
              "      <td>0.019997</td>\n",
              "      <td>-1.220001</td>\n",
              "      <td>0.480003</td>\n",
              "      <td>3.020004</td>\n",
              "      <td>-0.029999</td>\n",
              "      <td>1.940002</td>\n",
              "      <td>1.130005</td>\n",
              "      <td>0.309998</td>\n",
              "    </tr>\n",
              "  </tbody>\n",
              "</table>\n",
              "<p>5 rows × 963 columns</p>\n",
              "</div>"
            ],
            "text/plain": [
              "                  2010-01-04  2010-01-05  ...  2013-10-28  2013-10-29\n",
              "Apple               0.580000   -0.220005  ...    0.840019  -19.589981\n",
              "AIG                -0.640002   -0.650000  ...   -0.400002    0.660000\n",
              "Amazon             -2.350006    1.260009  ...   -1.760009    3.740021\n",
              "American express    0.109997    0.000000  ...    0.040001    0.540001\n",
              "Boeing              0.459999    1.770000  ...    1.130005    0.309998\n",
              "\n",
              "[5 rows x 963 columns]"
            ]
          },
          "metadata": {
            "tags": []
          },
          "execution_count": 19
        }
      ]
    },
    {
      "cell_type": "code",
      "metadata": {
        "id": "VOguCJkYfFXW"
      },
      "source": [
        "movements = df.values\n",
        "companies = df.index.values"
      ],
      "execution_count": 20,
      "outputs": []
    },
    {
      "cell_type": "code",
      "metadata": {
        "colab": {
          "base_uri": "https://localhost:8080/"
        },
        "id": "xV8HVFY1fM00",
        "outputId": "aa3c1690-7769-4e75-a69e-e8e02608834e"
      },
      "source": [
        "from sklearn.preprocessing import Normalizer\n",
        "\n",
        "# Create a normalizer: normalizer\n",
        "normalizer = Normalizer()\n",
        "\n",
        "# Create a KMeans model with 10 clusters: kmeans\n",
        "kmeans = KMeans(n_clusters=10)\n",
        "\n",
        "# Make a pipeline chaining normalizer and kmeans: pipeline\n",
        "pipeline = make_pipeline(normalizer, kmeans)\n",
        "\n",
        "# Fit pipeline to the daily price movements\n",
        "pipeline.fit(movements)"
      ],
      "execution_count": 21,
      "outputs": [
        {
          "output_type": "execute_result",
          "data": {
            "text/plain": [
              "Pipeline(memory=None,\n",
              "         steps=[('normalizer', Normalizer(copy=True, norm='l2')),\n",
              "                ('kmeans',\n",
              "                 KMeans(algorithm='auto', copy_x=True, init='k-means++',\n",
              "                        max_iter=300, n_clusters=10, n_init=10, n_jobs=None,\n",
              "                        precompute_distances='auto', random_state=None,\n",
              "                        tol=0.0001, verbose=0))],\n",
              "         verbose=False)"
            ]
          },
          "metadata": {
            "tags": []
          },
          "execution_count": 21
        }
      ]
    },
    {
      "cell_type": "markdown",
      "metadata": {
        "id": "v3CGl_5rfYF4"
      },
      "source": [
        "\n",
        "\n",
        "Which stocks move together?\n",
        "\n",
        "> In the previous exercise, you clustered companies by their daily stock price movements. So which company have stock prices that tend to change in the same way? You'll now inspect the cluster labels from your clustering to find out.\n",
        "\n"
      ]
    },
    {
      "cell_type": "code",
      "metadata": {
        "colab": {
          "base_uri": "https://localhost:8080/"
        },
        "id": "cg68ZoidftRK",
        "outputId": "4d63147f-3e45-45fe-b47b-c45ea9ce7dde"
      },
      "source": [
        "# Predict the cluster labels: labels\n",
        "labels = pipeline.predict(movements)\n",
        "\n",
        "# Create a DataFrame aligning labels and companies: df\n",
        "df = pd.DataFrame({'labels': labels, 'companies': companies})\n",
        "\n",
        "# Display df sorted by cluster label\n",
        "print(df.sort_values('labels'))"
      ],
      "execution_count": 22,
      "outputs": [
        {
          "output_type": "stream",
          "text": [
            "    labels                           companies\n",
            "40       0                      Procter Gamble\n",
            "27       0                      Kimberly-Clark\n",
            "39       0                              Pfizer\n",
            "54       0                            Walgreen\n",
            "25       0                   Johnson & Johnson\n",
            "56       0                            Wal-Mart\n",
            "35       1                            Navistar\n",
            "13       1                   DuPont de Nemours\n",
            "44       1                        Schlumberger\n",
            "0        1                               Apple\n",
            "8        1                         Caterpillar\n",
            "51       1                   Texas instruments\n",
            "26       2                      JPMorgan Chase\n",
            "55       2                         Wells Fargo\n",
            "15       2                                Ford\n",
            "18       2                       Goldman Sachs\n",
            "1        2                                 AIG\n",
            "5        2                     Bank of America\n",
            "50       3  Taiwan Semiconductor Manufacturing\n",
            "33       3                           Microsoft\n",
            "32       3                                  3M\n",
            "30       3                          MasterCard\n",
            "58       3                               Xerox\n",
            "47       3                            Symantec\n",
            "59       3                               Yahoo\n",
            "23       3                                 IBM\n",
            "2        3                              Amazon\n",
            "20       3                          Home Depot\n",
            "3        3                    American express\n",
            "17       3                     Google/Alphabet\n",
            "16       3                   General Electrics\n",
            "24       3                               Intel\n",
            "11       3                               Cisco\n",
            "22       4                                  HP\n",
            "14       4                                Dell\n",
            "21       5                               Honda\n",
            "34       5                          Mitsubishi\n",
            "7        5                               Canon\n",
            "48       5                              Toyota\n",
            "45       5                                Sony\n",
            "4        6                              Boeing\n",
            "29       6                     Lookheed Martin\n",
            "36       6                    Northrop Grumman\n",
            "28       7                           Coca Cola\n",
            "38       7                               Pepsi\n",
            "31       7                           McDonalds\n",
            "9        7                   Colgate-Palmolive\n",
            "41       7                       Philip Morris\n",
            "19       8                     GlaxoSmithKline\n",
            "52       8                            Unilever\n",
            "6        8            British American Tobacco\n",
            "42       8                   Royal Dutch Shell\n",
            "37       8                            Novartis\n",
            "46       8                      Sanofi-Aventis\n",
            "43       8                                 SAP\n",
            "49       8                               Total\n",
            "53       9                       Valero Energy\n",
            "10       9                      ConocoPhillips\n",
            "57       9                               Exxon\n",
            "12       9                             Chevron\n"
          ],
          "name": "stdout"
        }
      ]
    },
    {
      "cell_type": "markdown",
      "metadata": {
        "id": "LLZ0cTHahRS2"
      },
      "source": [
        "# **PART 2**\n",
        "\n",
        "---\n",
        "\n"
      ]
    },
    {
      "cell_type": "markdown",
      "metadata": {
        "id": "8RunUbGpmuy5"
      },
      "source": [
        "# **Visualizing hierarchies** --w/ Agglomerative hierarchial"
      ]
    },
    {
      "cell_type": "code",
      "metadata": {
        "id": "7n1MyBBZsXd9"
      },
      "source": [
        "df = pd.read_csv('seeds.csv', header=None)\n",
        "df[7] = df[7].map({1:'Kama wheat', 2:'Rosa wheat', 3:'Canadian wheat'})\n",
        "df.head()\n",
        "\n",
        "samples = df.iloc[:, :-1].values\n",
        "varieties = df.iloc[:, -1].values"
      ],
      "execution_count": 27,
      "outputs": []
    },
    {
      "cell_type": "code",
      "metadata": {
        "colab": {
          "base_uri": "https://localhost:8080/",
          "height": 282
        },
        "id": "Xm0OrbTmhV4s",
        "outputId": "159f82d8-b6be-4b8d-85ca-dca4694524d2"
      },
      "source": [
        "from scipy.cluster.hierarchy import linkage, dendrogram\n",
        "\n",
        "# Calculate the linkage: mergings\n",
        "mergings = linkage(samples, method='complete')\n",
        "\n",
        "# Plot the dendrogram, using varieties as labels\n",
        "plt.figure(figsize=(15, 5))\n",
        "dendrogram(mergings,\n",
        "           labels=varieties,\n",
        "           leaf_rotation=90,\n",
        "           leaf_font_size=6,\n",
        "          );"
      ],
      "execution_count": 28,
      "outputs": [
        {
          "output_type": "display_data",
          "data": {
            "image/png": "[encoded data removed]",
            "text/plain": [
              "<Figure size 1080x360 with 1 Axes>"
            ]
          },
          "metadata": {
            "tags": [],
            "needs_background": "light"
          }
        }
      ]
    },
    {
      "cell_type": "markdown",
      "metadata": {
        "id": "qMRFlm5xt33R"
      },
      "source": [
        "# **Hierarchies of stocks**\n",
        "\n",
        "Perform hierarchical clustering of the companies. You are given a NumPy array of price movements ```movements```, where the rows correspond to companies, and a list of the company names companies. SciPy hierarchical clustering doesn't fit into a sklearn pipeline, so you'll need to use the ```normalize()``` function from ```sklearn.preprocessing``` instead of ```Normalizer```."
      ]
    },
    {
      "cell_type": "code",
      "metadata": {
        "id": "4bkfMx4zt8v_"
      },
      "source": [
        "df = pd.read_csv('company-stock-movements-2010-2015-incl.csv', index_col=0)\n",
        "df.head()\n",
        "\n",
        "movements = df.values\n",
        "companies = df.index.values"
      ],
      "execution_count": 29,
      "outputs": []
    },
    {
      "cell_type": "code",
      "metadata": {
        "colab": {
          "base_uri": "https://localhost:8080/",
          "height": 332
        },
        "id": "_DVZgzHhvoS_",
        "outputId": "88629954-718e-4791-d219-1c23808a3875"
      },
      "source": [
        "from sklearn.preprocessing import normalize\n",
        "\n",
        "# Normalize the movements: normalize_movements\n",
        "normalized_movements = normalize(movements)\n",
        "\n",
        "# Calculate the linkage: mergings\n",
        "mergings = linkage(normalized_movements, method='complete')\n",
        "\n",
        "# Plot the dendrogram\n",
        "plt.figure(figsize=(15, 5))\n",
        "dendrogram(mergings, \n",
        "           labels=companies,\n",
        "           leaf_rotation=90,\n",
        "          leaf_font_size=6);"
      ],
      "execution_count": 30,
      "outputs": [
        {
          "output_type": "display_data",
          "data": {
            "image/png": "[encoded data removed]",
            "text/plain": [
              "<Figure size 1080x360 with 1 Axes>"
            ]
          },
          "metadata": {
            "tags": [],
            "needs_background": "light"
          }
        }
      ]
    },
    {
      "cell_type": "markdown",
      "metadata": {
        "id": "XcWwfJ04vx58"
      },
      "source": [
        "# **Extracting the cluster labels**"
      ]
    },
    {
      "cell_type": "code",
      "metadata": {
        "id": "MFQ3Mpf8ztAC"
      },
      "source": [
        "df = pd.read_csv('seeds.csv', header=None)\n",
        "df[7] = df[7].map({1:'Kama wheat', 2:'Rosa wheat', 3:'Canadian wheat'})\n",
        "\n",
        "samples = df.iloc[:, :-1].values\n",
        "varieties = df.iloc[:, -1].values"
      ],
      "execution_count": 31,
      "outputs": []
    },
    {
      "cell_type": "code",
      "metadata": {
        "colab": {
          "base_uri": "https://localhost:8080/"
        },
        "id": "AKRaCzS4zyhN",
        "outputId": "766b5e7d-4696-4f7a-a6dd-cb204503213d"
      },
      "source": [
        "from scipy.cluster.hierarchy import fcluster\n",
        "\n",
        "mergings = linkage(samples, method='complete')\n",
        "\n",
        "# Use fcluster to extract labels: labels\n",
        "labels = fcluster(mergings, 6, criterion='distance')\n",
        "\n",
        "# Create a DataFrame with labels and varieties as columns: df\n",
        "df = pd.DataFrame({'labels': labels, 'varieties': varieties})\n",
        "\n",
        "# Create crosstab\n",
        "ct = pd.crosstab(df['labels'], df['varieties'])\n",
        "\n",
        "# Display ct\n",
        "print(ct)"
      ],
      "execution_count": 32,
      "outputs": [
        {
          "output_type": "stream",
          "text": [
            "varieties  Canadian wheat  Kama wheat  Rosa wheat\n",
            "labels                                           \n",
            "1                       0           0          47\n",
            "2                       0          52          23\n",
            "3                      13           1           0\n",
            "4                      57          17           0\n"
          ],
          "name": "stdout"
        }
      ]
    },
    {
      "cell_type": "markdown",
      "metadata": {
        "id": "NVK3_49c1SnE"
      },
      "source": [
        "# **t-SNE for 2 dimensional maps**\n",
        "\n",
        " * t-SNE = \"t-distributed stochastic neighbor embedding\"\n",
        " *  Maps samples to 2D space (or 3D)\n",
        " * Map approximately preserves nearness of samples\n",
        " * t-SNE provides great visualizations when the individual samples can be labeled. \n",
        " * Great for inspecting dataset"
      ]
    },
    {
      "cell_type": "code",
      "metadata": {
        "id": "5xZQl_tC1Yla"
      },
      "source": [
        "df = pd.read_csv('seeds.csv', header=None)\n",
        "\n",
        "samples = df.iloc[:, :-1].values\n",
        "variety_numbers = df.iloc[:, -1].values"
      ],
      "execution_count": 33,
      "outputs": []
    },
    {
      "cell_type": "code",
      "metadata": {
        "colab": {
          "base_uri": "https://localhost:8080/",
          "height": 282
        },
        "id": "5Z_7sgB71YoT",
        "outputId": "b3c1c054-aa65-4f70-a39f-5678b639007b"
      },
      "source": [
        "from sklearn.manifold import TSNE\n",
        "\n",
        "# Create a TSNE instance: model\n",
        "model = TSNE(learning_rate=200)\n",
        "\n",
        "# Apply fit_transform to samples: tsne_features\n",
        "tsne_features = model.fit_transform(samples)\n",
        "\n",
        "# Select the 0th feature: xs\n",
        "xs = tsne_features[:, 0]\n",
        "\n",
        "# Select the 1st feature: ys\n",
        "ys = tsne_features[:, 1]\n",
        "\n",
        "# Scatter plot, coloring by variety_numbers\n",
        "plt.scatter(xs, ys, c=variety_numbers)"
      ],
      "execution_count": 35,
      "outputs": [
        {
          "output_type": "execute_result",
          "data": {
            "text/plain": [
              "<matplotlib.collections.PathCollection at 0x7f8f8d0b1b00>"
            ]
          },
          "metadata": {
            "tags": []
          },
          "execution_count": 35
        },
        {
          "output_type": "display_data",
          "data": {
            "image/png": "[encoded data removed]",
            "text/plain": [
              "<Figure size 432x288 with 1 Axes>"
            ]
          },
          "metadata": {
            "tags": [],
            "needs_background": "light"
          }
        }
      ]
    },
    {
      "cell_type": "markdown",
      "metadata": {
        "id": "Fen599Q037JX"
      },
      "source": [
        "\n",
        "\n",
        "```\n",
        " As you can see, the t-SNE visualization \n",
        " manages to separate the 3 varieties of grain samples. \n",
        "```\n",
        "\n"
      ]
    },
    {
      "cell_type": "markdown",
      "metadata": {
        "id": "8LNUz3hj4Id5"
      },
      "source": [
        "# **A t-SNE map of the stock market**\n",
        "\n",
        "t-SNE provides great visualizations when the individual samples can be labeled. In this exercise, you'll apply t-SNE to the company stock price data. A scatter plot of the resulting t-SNE features, labeled by the company names, gives you a map of the stock market! The stock price movements for each company are available as the array normalized_movements (these have already been normalized for you). The list companies gives the name of each company. PyPlot (plt) has been imported for you."
      ]
    },
    {
      "cell_type": "code",
      "metadata": {
        "id": "aV0p_67-3f3I"
      },
      "source": [
        "df = pd.read_csv('company-stock-movements-2010-2015-incl.csv', index_col=0)\n",
        "movements = df.values\n",
        "companies = df.index.values\n",
        "normalized_movements = normalize(movements)"
      ],
      "execution_count": 36,
      "outputs": []
    },
    {
      "cell_type": "code",
      "metadata": {
        "colab": {
          "base_uri": "https://localhost:8080/",
          "height": 592
        },
        "id": "OFciopf05jpE",
        "outputId": "45cbf742-8ea3-4938-f9e8-9ead4f573549"
      },
      "source": [
        "from sklearn.manifold import TSNE\n",
        "\n",
        "# Create a TSNE instance: model\n",
        "model = TSNE(learning_rate=50)\n",
        "\n",
        "# Apply fit_transform to normalized_movements: tsne_features\n",
        "tsne_features = model.fit_transform(normalized_movements)\n",
        "\n",
        "# Select the 0th feature: xs\n",
        "xs = tsne_features[:, 0]\n",
        "\n",
        "# Select the 1st feature: ys\n",
        "ys = tsne_features[:, 1]\n",
        "\n",
        "# Scatter plot\n",
        "plt.figure(figsize=(10, 10))\n",
        "plt.scatter(xs, ys, alpha=0.5)\n",
        "\n",
        "# Annotate the points\n",
        "for x, y, company in zip(xs, ys, companies):\n",
        "    plt.annotate(company, (x, y), fontsize=8, alpha=0.75)"
      ],
      "execution_count": 37,
      "outputs": [
        {
          "output_type": "display_data",
          "data": {
            "image/png": "[encoded data removed]",
            "text/plain": [
              "<Figure size 720x720 with 1 Axes>"
            ]
          },
          "metadata": {
            "tags": [],
            "needs_background": "light"
          }
        }
      ]
    },
    {
      "cell_type": "markdown",
      "metadata": {
        "id": "-OIKppQ65zTQ"
      },
      "source": [
        "\n",
        "\n",
        "```\n",
        "t's visualizations such as this that make t-SNE such \n",
        "a powerful tool for extracting quick insights from high dimensional data.\n",
        "```\n",
        "\n"
      ]
    },
    {
      "cell_type": "markdown",
      "metadata": {
        "id": "RlxPj_906Hvc"
      },
      "source": [
        "# **PART 3**\n",
        "\n",
        "\n",
        "---\n",
        "\n"
      ]
    },
    {
      "cell_type": "markdown",
      "metadata": {
        "id": "ouHkmfvj66e4"
      },
      "source": [
        "# **Visualizing the PCA tranformation**\n",
        "\n",
        "\n",
        "\n",
        "*   Dimension reduction\n",
        "> - More efficient storage \n",
        "> - Remove less-informative 'noise' features\n",
        "> - ...which cause problems for predictions tasks e.g. Classification & Regression\n",
        "\n",
        "*   Principal Component Analysis (PCA)\n",
        "> - dimension reduction technique\n",
        "> - 1. 'decorrelation' \n",
        "> - 2. 'reduces dimension\n",
        "\n",
        "* PCA aligns data with axes\n",
        "> - rotates data samples to be aligned with axes \n",
        "> - shifts data samples to get mean=0\n",
        "> - no info is lost\n",
        "\n",
        "* PCA features\n",
        "> - rows: samples\n",
        "> - columns: PCA features\n",
        "\n",
        "* Pearson Correlation\n",
        "> - measures linear correlation of features\n",
        "> - values between -1 to 1\n",
        "> - mean = 0\n",
        "\n",
        "* Principal components\n",
        "> - directions of variance\n",
        "> - PCA aligns principal components with the axes\n"
      ]
    },
    {
      "cell_type": "markdown",
      "metadata": {
        "id": "FpNKMVsV8QNI"
      },
      "source": [
        "![Screen Shot 2021-02-21 at 1.53.57 PM.png](data:image/png;base64,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)"
      ]
    },
    {
      "cell_type": "code",
      "metadata": {
        "colab": {
          "base_uri": "https://localhost:8080/",
          "height": 197
        },
        "id": "aeR6fz508T6-",
        "outputId": "954a59e6-5fe6-4cd5-e4b9-e050a0525b28"
      },
      "source": [
        "df = pd.read_csv('seeds-width-vs-length.csv', header=None)\n",
        "df.head()"
      ],
      "execution_count": 40,
      "outputs": [
        {
          "output_type": "execute_result",
          "data": {
            "text/html": [
              "<div>\n",
              "<style scoped>\n",
              "    .dataframe tbody tr th:only-of-type {\n",
              "        vertical-align: middle;\n",
              "    }\n",
              "\n",
              "    .dataframe tbody tr th {\n",
              "        vertical-align: top;\n",
              "    }\n",
              "\n",
              "    .dataframe thead th {\n",
              "        text-align: right;\n",
              "    }\n",
              "</style>\n",
              "<table border=\"1\" class=\"dataframe\">\n",
              "  <thead>\n",
              "    <tr style=\"text-align: right;\">\n",
              "      <th></th>\n",
              "      <th>0</th>\n",
              "      <th>1</th>\n",
              "    </tr>\n",
              "  </thead>\n",
              "  <tbody>\n",
              "    <tr>\n",
              "      <th>0</th>\n",
              "      <td>3.312</td>\n",
              "      <td>5.763</td>\n",
              "    </tr>\n",
              "    <tr>\n",
              "      <th>1</th>\n",
              "      <td>3.333</td>\n",
              "      <td>5.554</td>\n",
              "    </tr>\n",
              "    <tr>\n",
              "      <th>2</th>\n",
              "      <td>3.337</td>\n",
              "      <td>5.291</td>\n",
              "    </tr>\n",
              "    <tr>\n",
              "      <th>3</th>\n",
              "      <td>3.379</td>\n",
              "      <td>5.324</td>\n",
              "    </tr>\n",
              "    <tr>\n",
              "      <th>4</th>\n",
              "      <td>3.562</td>\n",
              "      <td>5.658</td>\n",
              "    </tr>\n",
              "  </tbody>\n",
              "</table>\n",
              "</div>"
            ],
            "text/plain": [
              "       0      1\n",
              "0  3.312  5.763\n",
              "1  3.333  5.554\n",
              "2  3.337  5.291\n",
              "3  3.379  5.324\n",
              "4  3.562  5.658"
            ]
          },
          "metadata": {
            "tags": []
          },
          "execution_count": 40
        }
      ]
    },
    {
      "cell_type": "code",
      "metadata": {
        "id": "zB02YVxF_PvY"
      },
      "source": [
        "grains = df.values"
      ],
      "execution_count": 42,
      "outputs": []
    },
    {
      "cell_type": "code",
      "metadata": {
        "colab": {
          "base_uri": "https://localhost:8080/",
          "height": 285
        },
        "id": "alGycXPw_Pyn",
        "outputId": "a6fd8b34-3bd2-4781-c780-ef31e741d920"
      },
      "source": [
        "from scipy.stats import pearsonr\n",
        "\n",
        "# Assign the 0th column of grains: width\n",
        "width = grains[:, 0]\n",
        "\n",
        "# Assign the 1st column of grains: length\n",
        "length = grains[:, 1]\n",
        "\n",
        "# Scatter plot width vs length\n",
        "plt.scatter(width, length)\n",
        "plt.axis('equal');\n",
        "\n",
        "# Calculate the Pearson correlation\n",
        "correlation, pvalue = pearsonr(width, length)\n",
        "\n",
        "# Display the correlation\n",
        "print(correlation)"
      ],
      "execution_count": 43,
      "outputs": [
        {
          "output_type": "stream",
          "text": [
            "0.8604149377143466\n"
          ],
          "name": "stdout"
        },
        {
          "output_type": "display_data",
          "data": {
            "image/png": "[encoded data removed]",
            "text/plain": [
              "<Figure size 432x288 with 1 Axes>"
            ]
          },
          "metadata": {
            "tags": [],
            "needs_background": "light"
          }
        }
      ]
    },
    {
      "cell_type": "markdown",
      "metadata": {
        "id": "REEu7N-lAPqa"
      },
      "source": [
        "\n",
        "\n",
        "```\n",
        "As you would expect, the width and length of the grain samples are highly correlated.\n",
        "```\n",
        "\n"
      ]
    },
    {
      "cell_type": "markdown",
      "metadata": {
        "id": "Q5TsWMJmBQDp"
      },
      "source": [
        "# **Decorrelating measurements with PCA**\n",
        "\n",
        "previous exercise that the width and length measurements of the grain are correlated. Now, used PCA to decorrelate these measurements, then plot the decorrelated points and measure their Pearson correlation."
      ]
    },
    {
      "cell_type": "code",
      "metadata": {
        "colab": {
          "base_uri": "https://localhost:8080/",
          "height": 282
        },
        "id": "0OgXh7VoBXVR",
        "outputId": "72ca0efc-f32b-4fd0-8c71-e40a20e18a90"
      },
      "source": [
        "# Import PCA\n",
        "from sklearn.decomposition import PCA\n",
        "\n",
        "# Create PCA instance: model\n",
        "model = PCA()\n",
        "\n",
        "# Apply the fit_transform method of model to grains: pca_features\n",
        "pca_features = model.fit_transform(grains)\n",
        "\n",
        "# Assign 0th column of pca_features: xs\n",
        "xs = pca_features[:,0]\n",
        "\n",
        "# Assign 1st column of pca_features: ys\n",
        "ys = pca_features[:,1]\n",
        "\n",
        "# Scatter plot xs vs ys\n",
        "plt.scatter(xs, ys)\n",
        "plt.axis('equal')\n",
        "plt.show()\n",
        "\n",
        "# Calculate the Pearson correlation of xs and ys\n",
        "correlation, pvalue = pearsonr(xs, ys)\n",
        "\n",
        "# Display the correlation\n",
        "print(correlation)"
      ],
      "execution_count": 44,
      "outputs": [
        {
          "output_type": "display_data",
          "data": {
            "image/png": "[encoded data removed]",
            "text/plain": [
              "<Figure size 432x288 with 1 Axes>"
            ]
          },
          "metadata": {
            "tags": [],
            "needs_background": "light"
          }
        },
        {
          "output_type": "stream",
          "text": [
            "2.5496075358378932e-17\n"
          ],
          "name": "stdout"
        }
      ]
    },
    {
      "cell_type": "markdown",
      "metadata": {
        "id": "dq8L5D1nDCqj"
      },
      "source": [
        "# **Intrinsic dimension**\n",
        "\n",
        "The first principal component"
      ]
    },
    {
      "cell_type": "code",
      "metadata": {
        "colab": {
          "base_uri": "https://localhost:8080/",
          "height": 267
        },
        "id": "z465xNVBDGeA",
        "outputId": "38c1fa10-1198-4879-9e0f-f1f59158df7c"
      },
      "source": [
        "# Make a scatter plot of the untransformed points\n",
        "plt.scatter(grains[:,0], grains[:,1])\n",
        "\n",
        "# Create a PCA instance: model\n",
        "model = PCA()\n",
        "\n",
        "# Fit model to points\n",
        "model.fit(grains)\n",
        "\n",
        "# Get the mean of the grain samples: mean\n",
        "mean = model.mean_\n",
        "\n",
        "# Get the first principal component: first_pc\n",
        "first_pc = model.components_[0,:]\n",
        "\n",
        "# Plot first_pc as an arrow, starting at mean\n",
        "plt.arrow(mean[0], mean[1], first_pc[0], first_pc[1], color='red', width=0.01)\n",
        "\n",
        "# Keep axes on same scale\n",
        "plt.axis('equal')\n",
        "plt.show()"
      ],
      "execution_count": 45,
      "outputs": [
        {
          "output_type": "display_data",
          "data": {
            "image/png": "[encoded data removed]",
            "text/plain": [
              "<Figure size 432x288 with 1 Axes>"
            ]
          },
          "metadata": {
            "tags": [],
            "needs_background": "light"
          }
        }
      ]
    },
    {
      "cell_type": "markdown",
      "metadata": {
        "id": "qk9y7dTOE1-q"
      },
      "source": [
        "\n",
        "\n",
        "```\n",
        "This is the direction in which the grain data varies the most.\n",
        "```\n",
        "\n"
      ]
    },
    {
      "cell_type": "markdown",
      "metadata": {
        "id": "CKRAj_xEE_V2"
      },
      "source": [
        "### **Variance of the PCA features**\n",
        "\n"
      ]
    },
    {
      "cell_type": "code",
      "metadata": {
        "colab": {
          "base_uri": "https://localhost:8080/",
          "height": 197
        },
        "id": "XD4j0P18GaMc",
        "outputId": "cea76296-60bc-4bdb-9e3f-f975c7cdb53e"
      },
      "source": [
        "df = pd.read_csv('fish.csv', header=None)\n",
        "df.head()"
      ],
      "execution_count": 49,
      "outputs": [
        {
          "output_type": "execute_result",
          "data": {
            "text/html": [
              "<div>\n",
              "<style scoped>\n",
              "    .dataframe tbody tr th:only-of-type {\n",
              "        vertical-align: middle;\n",
              "    }\n",
              "\n",
              "    .dataframe tbody tr th {\n",
              "        vertical-align: top;\n",
              "    }\n",
              "\n",
              "    .dataframe thead th {\n",
              "        text-align: right;\n",
              "    }\n",
              "</style>\n",
              "<table border=\"1\" class=\"dataframe\">\n",
              "  <thead>\n",
              "    <tr style=\"text-align: right;\">\n",
              "      <th></th>\n",
              "      <th>0</th>\n",
              "      <th>1</th>\n",
              "      <th>2</th>\n",
              "      <th>3</th>\n",
              "      <th>4</th>\n",
              "      <th>5</th>\n",
              "      <th>6</th>\n",
              "    </tr>\n",
              "  </thead>\n",
              "  <tbody>\n",
              "    <tr>\n",
              "      <th>0</th>\n",
              "      <td>Bream</td>\n",
              "      <td>242.0</td>\n",
              "      <td>23.2</td>\n",
              "      <td>25.4</td>\n",
              "      <td>30.0</td>\n",
              "      <td>38.4</td>\n",
              "      <td>13.4</td>\n",
              "    </tr>\n",
              "    <tr>\n",
              "      <th>1</th>\n",
              "      <td>Bream</td>\n",
              "      <td>290.0</td>\n",
              "      <td>24.0</td>\n",
              "      <td>26.3</td>\n",
              "      <td>31.2</td>\n",
              "      <td>40.0</td>\n",
              "      <td>13.8</td>\n",
              "    </tr>\n",
              "    <tr>\n",
              "      <th>2</th>\n",
              "      <td>Bream</td>\n",
              "      <td>340.0</td>\n",
              "      <td>23.9</td>\n",
              "      <td>26.5</td>\n",
              "      <td>31.1</td>\n",
              "      <td>39.8</td>\n",
              "      <td>15.1</td>\n",
              "    </tr>\n",
              "    <tr>\n",
              "      <th>3</th>\n",
              "      <td>Bream</td>\n",
              "      <td>363.0</td>\n",
              "      <td>26.3</td>\n",
              "      <td>29.0</td>\n",
              "      <td>33.5</td>\n",
              "      <td>38.0</td>\n",
              "      <td>13.3</td>\n",
              "    </tr>\n",
              "    <tr>\n",
              "      <th>4</th>\n",
              "      <td>Bream</td>\n",
              "      <td>430.0</td>\n",
              "      <td>26.5</td>\n",
              "      <td>29.0</td>\n",
              "      <td>34.0</td>\n",
              "      <td>36.6</td>\n",
              "      <td>15.1</td>\n",
              "    </tr>\n",
              "  </tbody>\n",
              "</table>\n",
              "</div>"
            ],
            "text/plain": [
              "       0      1     2     3     4     5     6\n",
              "0  Bream  242.0  23.2  25.4  30.0  38.4  13.4\n",
              "1  Bream  290.0  24.0  26.3  31.2  40.0  13.8\n",
              "2  Bream  340.0  23.9  26.5  31.1  39.8  15.1\n",
              "3  Bream  363.0  26.3  29.0  33.5  38.0  13.3\n",
              "4  Bream  430.0  26.5  29.0  34.0  36.6  15.1"
            ]
          },
          "metadata": {
            "tags": []
          },
          "execution_count": 49
        }
      ]
    },
    {
      "cell_type": "code",
      "metadata": {
        "id": "kHhLu-oEGmIr"
      },
      "source": [
        "samples = df.loc[:, 1:].values"
      ],
      "execution_count": null,
      "outputs": []
    },
    {
      "cell_type": "code",
      "metadata": {
        "colab": {
          "base_uri": "https://localhost:8080/",
          "height": 278
        },
        "id": "vV2BikgDGMjI",
        "outputId": "78d58dc8-79e1-4b0c-bb62-2c4d4c3f15d8"
      },
      "source": [
        "# Perform the necessary imports\n",
        "from sklearn.decomposition import PCA\n",
        "from sklearn.preprocessing import StandardScaler\n",
        "from sklearn.pipeline import make_pipeline\n",
        "import matplotlib.pyplot as plt\n",
        "\n",
        "# Create scaler: scaler\n",
        "scaler = StandardScaler()\n",
        "\n",
        "# Create a PCA instance: pca\n",
        "pca = PCA()\n",
        "\n",
        "# Create pipeline: pipeline\n",
        "pipeline = make_pipeline(scaler, pca)\n",
        "\n",
        "# Fit the pipeline to 'samples'\n",
        "pipeline.fit(samples)\n",
        "\n",
        "# Plot the explained variances\n",
        "features = range(pca.n_components_)\n",
        "plt.bar(features, pca.explained_variance_)\n",
        "plt.xlabel('PCA feature')\n",
        "plt.ylabel('variance')\n",
        "plt.xticks(features);"
      ],
      "execution_count": 51,
      "outputs": [
        {
          "output_type": "display_data",
          "data": {
            "image/png": "[encoded data removed]",
            "text/plain": [
              "<Figure size 432x288 with 1 Axes>"
            ]
          },
          "metadata": {
            "tags": [],
            "needs_background": "light"
          }
        }
      ]
    },
    {
      "cell_type": "markdown",
      "metadata": {
        "id": "_059xtQJGSXk"
      },
      "source": [
        "\n",
        "\n",
        "```\n",
        "It looks like PCA features 0 and 1 have significant variance.\n",
        "\n",
        "The intrinsic dimension of this dataset is 2\n",
        "```\n",
        "\n"
      ]
    },
    {
      "cell_type": "markdown",
      "metadata": {
        "id": "jLZryNWzHwgo"
      },
      "source": [
        "# **Dimension reduction with PCA**"
      ]
    },
    {
      "cell_type": "markdown",
      "metadata": {
        "id": "bLHupjhJH-JB"
      },
      "source": [
        "![Screen Shot 2021-02-21 at 2.45.07 PM.png](data:image/png;base64,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)"
      ]
    },
    {
      "cell_type": "code",
      "metadata": {
        "id": "khV0aT96H9M4"
      },
      "source": [
        "scaler = StandardScaler()\n",
        "scaled_samples = scaler.fit_transform(samples)"
      ],
      "execution_count": 52,
      "outputs": []
    },
    {
      "cell_type": "code",
      "metadata": {
        "colab": {
          "base_uri": "https://localhost:8080/"
        },
        "id": "S-Yk3vj-GaJZ",
        "outputId": "3b9d80dc-5ad3-4d5f-b17e-635429247d84"
      },
      "source": [
        "# Create a PCA model with 2 components: pca\n",
        "pca = PCA(n_components=2)\n",
        "\n",
        "# Fit the PCA instance to the scaled samples\n",
        "pca.fit(scaled_samples)\n",
        "\n",
        "# Transform the scaled samples: pca_features\n",
        "pca_features = pca.transform(scaled_samples)\n",
        "\n",
        "# Print the shape of pca_features\n",
        "print(pca_features.shape)"
      ],
      "execution_count": 53,
      "outputs": [
        {
          "output_type": "stream",
          "text": [
            "(85, 2)\n"
          ],
          "name": "stdout"
        }
      ]
    },
    {
      "cell_type": "markdown",
      "metadata": {
        "id": "aAJtLRpAOCgn"
      },
      "source": [
        "\n",
        "\n",
        "```\n",
        "successfully reduced the dimensionality from 6 to 2.\n",
        "```\n",
        "\n"
      ]
    },
    {
      "cell_type": "markdown",
      "metadata": {
        "id": "AwgBD4kKOE22"
      },
      "source": [
        "# **A tf-idf word-frequency array**\n",
        "In this exercise, you'll create a tf-idf word frequency array for a toy collection of documents. For this, use the ```TfidfVectorizer``` from sklearn. It transforms a list of documents into a word frequency array, which it outputs as a csr_matrix. It has ```fit()``` and ```transform()``` methods like other sklearn objects."
      ]
    },
    {
      "cell_type": "code",
      "metadata": {
        "id": "4gRZnlNZO8tH"
      },
      "source": [
        "documents = ['cats say meow', 'dogs say woof', 'dogs chase cats']"
      ],
      "execution_count": 54,
      "outputs": []
    },
    {
      "cell_type": "code",
      "metadata": {
        "colab": {
          "base_uri": "https://localhost:8080/"
        },
        "id": "mRSbww_WO8wN",
        "outputId": "60ff562e-ca36-4e10-e974-8c5cbe4c8a96"
      },
      "source": [
        "from sklearn.feature_extraction.text import TfidfVectorizer\n",
        "\n",
        "# Create a TfidfVectorizer: tfidf\n",
        "tfidf = TfidfVectorizer()\n",
        "\n",
        "# Apply fit_transform to document: csr_mat\n",
        "csr_mat = tfidf.fit_transform(documents)\n",
        "\n",
        "# Print result of toarray() method\n",
        "print(csr_mat.toarray())\n",
        "\n",
        "# Get the word: words\n",
        "words = tfidf.get_feature_names()\n",
        "\n",
        "# Print words\n",
        "print(words)"
      ],
      "execution_count": 55,
      "outputs": [
        {
          "output_type": "stream",
          "text": [
            "[[0.51785612 0.         0.         0.68091856 0.51785612 0.        ]\n",
            " [0.         0.         0.51785612 0.         0.51785612 0.68091856]\n",
            " [0.51785612 0.68091856 0.51785612 0.         0.         0.        ]]\n",
            "['cats', 'chase', 'dogs', 'meow', 'say', 'woof']\n"
          ],
          "name": "stdout"
        }
      ]
    },
    {
      "cell_type": "markdown",
      "metadata": {
        "id": "slMSBcpGPl6S"
      },
      "source": [
        "# **Clustering Wikipedia**\n",
        "\n",
        "In this exercise, build the pipeline. In the next exercise, you'll apply it to the word-frequency array of some Wikipedia articles.\n",
        "\n",
        "It is now time to put your pipeline from the previous exercise to work! You are given an array articles of tf-idf word-frequencies of some popular Wikipedia articles, and a list titles of their titles. Use your pipeline to cluster the Wikipedia articles."
      ]
    },
    {
      "cell_type": "code",
      "metadata": {
        "id": "F6RS0jpsQBqh"
      },
      "source": [
        "from scipy.sparse import csc_matrix\n",
        "\n",
        "documents = pd.read_csv('wikipedia-vectors.csv', index_col=0)\n",
        "titles = documents.columns\n",
        "articles = csc_matrix(documents.values).T"
      ],
      "execution_count": 57,
      "outputs": []
    },
    {
      "cell_type": "code",
      "metadata": {
        "colab": {
          "base_uri": "https://localhost:8080/"
        },
        "id": "_FDW39LMRkWv",
        "outputId": "b31f67fb-49e1-4129-9d6f-8317015fe685"
      },
      "source": [
        "type(articles)"
      ],
      "execution_count": 58,
      "outputs": [
        {
          "output_type": "execute_result",
          "data": {
            "text/plain": [
              "scipy.sparse.csr.csr_matrix"
            ]
          },
          "metadata": {
            "tags": []
          },
          "execution_count": 58
        }
      ]
    },
    {
      "cell_type": "code",
      "metadata": {
        "colab": {
          "base_uri": "https://localhost:8080/"
        },
        "id": "NVCyDJkBRkZz",
        "outputId": "c636295e-ec5b-4cac-91f8-1bee446e5780"
      },
      "source": [
        "articles.T.shape"
      ],
      "execution_count": 59,
      "outputs": [
        {
          "output_type": "execute_result",
          "data": {
            "text/plain": [
              "(13125, 60)"
            ]
          },
          "metadata": {
            "tags": []
          },
          "execution_count": 59
        }
      ]
    },
    {
      "cell_type": "code",
      "metadata": {
        "id": "CDHGMDWtRqZ8"
      },
      "source": [
        "import pandas as pd\n",
        "from sklearn.decomposition import TruncatedSVD\n",
        "from sklearn.cluster import KMeans\n",
        "from sklearn.pipeline import make_pipeline"
      ],
      "execution_count": 60,
      "outputs": []
    },
    {
      "cell_type": "code",
      "metadata": {
        "id": "vMCiKAJQR11g"
      },
      "source": [
        "# Create a TruncatedSVD instance: svd\n",
        "svd = TruncatedSVD(n_components=50)\n",
        "\n",
        "# Create a KMeans instance: kmeans\n",
        "kmeans = KMeans(n_clusters=6)\n",
        "\n",
        "# Create a pipeline: pipeline\n",
        "pipeline = make_pipeline(svd, kmeans)"
      ],
      "execution_count": 61,
      "outputs": []
    },
    {
      "cell_type": "code",
      "metadata": {
        "colab": {
          "base_uri": "https://localhost:8080/"
        },
        "id": "L_Cder-hRqcq",
        "outputId": "3fee0b65-6ecc-4ff8-8127-fcc059c0047a"
      },
      "source": [
        "# Fit the pipeline to articles\n",
        "pipeline.fit(articles)\n",
        "\n",
        "# Calculate the cluster labels: labels\n",
        "labels = pipeline.predict(articles)\n",
        "\n",
        "# Create a DataFrame aligning labels and titles: df\n",
        "df = pd.DataFrame({'label': labels, 'article': titles})\n",
        "\n",
        "# Display df sorted by cluster label\n",
        "print(df.sort_values('label'))"
      ],
      "execution_count": 64,
      "outputs": [
        {
          "output_type": "stream",
          "text": [
            "    label                                        article\n",
            "11      0       Nationally Appropriate Mitigation Action\n",
            "19      0  2007 United Nations Climate Change Conference\n",
            "18      0  2010 United Nations Climate Change Conference\n",
            "17      0  Greenhouse gas emissions by the United States\n",
            "16      0                                        350.org\n",
            "15      0                                 Kyoto Protocol\n",
            "14      0                                 Climate change\n",
            "13      0                               Connie Hedegaard\n",
            "12      0                                   Nigel Lawson\n",
            "10      0                                 Global warming\n",
            "59      1                                    Adam Levine\n",
            "50      1                                   Chad Kroeger\n",
            "51      1                                     Nate Ruess\n",
            "52      1                                     The Wanted\n",
            "53      1                                   Stevie Nicks\n",
            "54      1                                 Arctic Monkeys\n",
            "55      1                                  Black Sabbath\n",
            "56      1                                       Skrillex\n",
            "57      1                          Red Hot Chili Peppers\n",
            "58      1                                         Sepsis\n",
            "26      2                                     Mila Kunis\n",
            "28      2                                  Anne Hathaway\n",
            "27      2                                 Dakota Fanning\n",
            "25      2                                  Russell Crowe\n",
            "29      2                               Jennifer Aniston\n",
            "23      2                           Catherine Zeta-Jones\n",
            "22      2                              Denzel Washington\n",
            "21      2                             Michael Fassbender\n",
            "20      2                                 Angelina Jolie\n",
            "24      2                                   Jessica Biel\n",
            "39      3                                  Franck Ribéry\n",
            "38      3                                         Neymar\n",
            "37      3                                       Football\n",
            "36      3              2014 FIFA World Cup qualification\n",
            "35      3                Colombia national football team\n",
            "33      3                                 Radamel Falcao\n",
            "32      3                                   Arsenal F.C.\n",
            "31      3                              Cristiano Ronaldo\n",
            "30      3                  France national football team\n",
            "34      3                             Zlatan Ibrahimović\n",
            "47      4                                          Fever\n",
            "6       4                    Hypertext Transfer Protocol\n",
            "49      4                                       Lymphoma\n",
            "3       4                                    HTTP cookie\n",
            "48      4                                     Gabapentin\n",
            "46      4                                     Prednisone\n",
            "42      4                                    Doxycycline\n",
            "44      4                                           Gout\n",
            "43      4                                       Leukemia\n",
            "41      4                                    Hepatitis B\n",
            "40      4                                    Tonsillitis\n",
            "45      4                                    Hepatitis C\n",
            "0       4                                       HTTP 404\n",
            "8       5                                        Firefox\n",
            "7       5                                  Social search\n",
            "5       5                                         Tumblr\n",
            "4       5                                  Google Search\n",
            "9       5                                       LinkedIn\n",
            "2       5                              Internet Explorer\n",
            "1       5                                 Alexa Internet\n"
          ],
          "name": "stdout"
        }
      ]
    },
    {
      "cell_type": "markdown",
      "metadata": {
        "id": "RETo4VrpTasT"
      },
      "source": [
        "# **PART 4**\n",
        "\n",
        "---\n",
        "\n"
      ]
    },
    {
      "cell_type": "markdown",
      "metadata": {
        "id": "GHSHAgBnVo8B"
      },
      "source": [
        "## Non-Negative matrix factorization (NMF)\n",
        "- NMF = Non-negative matrix factorization\n",
        "    - Dimension reduction technique\n",
        "    - NMF models are interpretable (unlike PCA)\n",
        "    - Easy to interpret means easy to explain\n",
        "    - However, all sample features must be non-negative ($\\ge 0$)\n",
        "- NMF components\n",
        "    - Just like PCA has principal components\n",
        "    - Dimension of components = dimension of samples\n",
        "    - Entries are non-negative\n",
        "    - Can be used to reconstruct the samples\n",
        "    - Combine feature values with components\n",
        "- Sample reconstruction\n",
        "    - Multiply components by feature values, and add up\n",
        "    - Can also be expressed as a product of matrices\n",
        "    - This is the \"Matrix Factorization\" in \"NMF\""
      ]
    },
    {
      "cell_type": "code",
      "metadata": {
        "id": "_EpG2vCTTfGn"
      },
      "source": [
        "from scipy.sparse import csr_matrix\n",
        "\n",
        "documents = pd.read_csv('wikipedia-vectors.csv', index_col=0)\n",
        "titles = documents.columns\n",
        "articles = csr_matrix(documents.values).T"
      ],
      "execution_count": 65,
      "outputs": []
    },
    {
      "cell_type": "code",
      "metadata": {
        "id": "q-8kLovzTfJz"
      },
      "source": [
        "from sklearn.decomposition import NMF\n",
        "\n",
        "# Create an NMF instance: model\n",
        "model = NMF(n_components=6)\n",
        "\n",
        "# Fit the model to articles\n",
        "model.fit(articles)\n",
        "\n",
        "# Transform the articles: nmf_features\n",
        "nmf_features = model.transform(articles)\n",
        "\n",
        "# Print the NMF features\n",
        "print(nmf_features)"
      ],
      "execution_count": null,
      "outputs": []
    },
    {
      "cell_type": "markdown",
      "metadata": {
        "id": "QLTRNHyxXaQP"
      },
      "source": [
        "NMF features of the Wiki articles"
      ]
    },
    {
      "cell_type": "code",
      "metadata": {
        "colab": {
          "base_uri": "https://localhost:8080/"
        },
        "id": "6AYIaxOHWxGP",
        "outputId": "af9b5cc5-f42c-4d0b-bb65-45cf2b302fa2"
      },
      "source": [
        "# Create a pandas DataFrame: df\n",
        "df = pd.DataFrame(nmf_features, index=titles)\n",
        "\n",
        "# Print the row for 'Anne Hathaway'\n",
        "print(df.loc['Anne Hathaway'])\n",
        "\n",
        "# Print the row for 'Denzel Washington'\n",
        "print(df.loc['Denzel Washington'])"
      ],
      "execution_count": 68,
      "outputs": [
        {
          "output_type": "stream",
          "text": [
            "0    0.003845\n",
            "1    0.000000\n",
            "2    0.000000\n",
            "3    0.575604\n",
            "4    0.000000\n",
            "5    0.000000\n",
            "Name: Anne Hathaway, dtype: float64\n",
            "0    0.000000\n",
            "1    0.005601\n",
            "2    0.000000\n",
            "3    0.422301\n",
            "4    0.000000\n",
            "5    0.000000\n",
            "Name: Denzel Washington, dtype: float64\n"
          ],
          "name": "stdout"
        }
      ]
    },
    {
      "cell_type": "markdown",
      "metadata": {
        "id": "8Pm_YdIYXQf-"
      },
      "source": [
        "\n",
        "\n",
        "```\n",
        "Notice that for both actors, the NMF feature 3 has \n",
        "by far the highest value. This means that both articles \n",
        "are reconstructed using mainly the 3rd NMF component. \n",
        "```\n",
        "\n"
      ]
    },
    {
      "cell_type": "markdown",
      "metadata": {
        "id": "SgQHGOh6XfRT"
      },
      "source": [
        ""
      ]
    },
    {
      "cell_type": "markdown",
      "metadata": {
        "id": "aIAazPLNamWx"
      },
      "source": [
        "# **Explore the LED digits dataset**"
      ]
    },
    {
      "cell_type": "code",
      "metadata": {
        "colab": {
          "base_uri": "https://localhost:8080/",
          "height": 246
        },
        "id": "xywm4wwvatBR",
        "outputId": "4ea15678-d17f-4409-938f-8e5d22c78025"
      },
      "source": [
        "df = pd.read_csv('lcd-digits.csv', header=None)\n",
        "df.head()"
      ],
      "execution_count": 70,
      "outputs": [
        {
          "output_type": "execute_result",
          "data": {
            "text/html": [
              "<div>\n",
              "<style scoped>\n",
              "    .dataframe tbody tr th:only-of-type {\n",
              "        vertical-align: middle;\n",
              "    }\n",
              "\n",
              "    .dataframe tbody tr th {\n",
              "        vertical-align: top;\n",
              "    }\n",
              "\n",
              "    .dataframe thead th {\n",
              "        text-align: right;\n",
              "    }\n",
              "</style>\n",
              "<table border=\"1\" class=\"dataframe\">\n",
              "  <thead>\n",
              "    <tr style=\"text-align: right;\">\n",
              "      <th></th>\n",
              "      <th>0</th>\n",
              "      <th>1</th>\n",
              "      <th>2</th>\n",
              "      <th>3</th>\n",
              "      <th>4</th>\n",
              "      <th>5</th>\n",
              "      <th>6</th>\n",
              "      <th>7</th>\n",
              "      <th>8</th>\n",
              "      <th>9</th>\n",
              "      <th>10</th>\n",
              "      <th>11</th>\n",
              "      <th>12</th>\n",
              "      <th>13</th>\n",
              "      <th>14</th>\n",
              "      <th>15</th>\n",
              "      <th>16</th>\n",
              "      <th>17</th>\n",
              "      <th>18</th>\n",
              "      <th>19</th>\n",
              "      <th>20</th>\n",
              "      <th>21</th>\n",
              "      <th>22</th>\n",
              "      <th>23</th>\n",
              "      <th>24</th>\n",
              "      <th>25</th>\n",
              "      <th>26</th>\n",
              "      <th>27</th>\n",
              "      <th>28</th>\n",
              "      <th>29</th>\n",
              "      <th>30</th>\n",
              "      <th>31</th>\n",
              "      <th>32</th>\n",
              "      <th>33</th>\n",
              "      <th>34</th>\n",
              "      <th>35</th>\n",
              "      <th>36</th>\n",
              "      <th>37</th>\n",
              "      <th>38</th>\n",
              "      <th>39</th>\n",
              "      <th>...</th>\n",
              "      <th>64</th>\n",
              "      <th>65</th>\n",
              "      <th>66</th>\n",
              "      <th>67</th>\n",
              "      <th>68</th>\n",
              "      <th>69</th>\n",
              "      <th>70</th>\n",
              "      <th>71</th>\n",
              "      <th>72</th>\n",
              "      <th>73</th>\n",
              "      <th>74</th>\n",
              "      <th>75</th>\n",
              "      <th>76</th>\n",
              "      <th>77</th>\n",
              "      <th>78</th>\n",
              "      <th>79</th>\n",
              "      <th>80</th>\n",
              "      <th>81</th>\n",
              "      <th>82</th>\n",
              "      <th>83</th>\n",
              "      <th>84</th>\n",
              "      <th>85</th>\n",
              "      <th>86</th>\n",
              "      <th>87</th>\n",
              "      <th>88</th>\n",
              "      <th>89</th>\n",
              "      <th>90</th>\n",
              "      <th>91</th>\n",
              "      <th>92</th>\n",
              "      <th>93</th>\n",
              "      <th>94</th>\n",
              "      <th>95</th>\n",
              "      <th>96</th>\n",
              "      <th>97</th>\n",
              "      <th>98</th>\n",
              "      <th>99</th>\n",
              "      <th>100</th>\n",
              "      <th>101</th>\n",
              "      <th>102</th>\n",
              "      <th>103</th>\n",
              "    </tr>\n",
              "  </thead>\n",
              "  <tbody>\n",
              "    <tr>\n",
              "      <th>0</th>\n",
              "      <td>0.0</td>\n",
              "      <td>0.0</td>\n",
              "      <td>0.0</td>\n",
              "      <td>0.0</td>\n",
              "      <td>0.0</td>\n",
              "      <td>0.0</td>\n",
              "      <td>0.0</td>\n",
              "      <td>0.0</td>\n",
              "      <td>0.0</td>\n",
              "      <td>0.0</td>\n",
              "      <td>1.0</td>\n",
              "      <td>1.0</td>\n",
              "      <td>1.0</td>\n",
              "      <td>1.0</td>\n",
              "      <td>0.0</td>\n",
              "      <td>0.0</td>\n",
              "      <td>0.0</td>\n",
              "      <td>0.0</td>\n",
              "      <td>0.0</td>\n",
              "      <td>0.0</td>\n",
              "      <td>0.0</td>\n",
              "      <td>0.0</td>\n",
              "      <td>1.0</td>\n",
              "      <td>0.0</td>\n",
              "      <td>0.0</td>\n",
              "      <td>0.0</td>\n",
              "      <td>0.0</td>\n",
              "      <td>0.0</td>\n",
              "      <td>0.0</td>\n",
              "      <td>0.0</td>\n",
              "      <td>1.0</td>\n",
              "      <td>0.0</td>\n",
              "      <td>0.0</td>\n",
              "      <td>0.0</td>\n",
              "      <td>0.0</td>\n",
              "      <td>0.0</td>\n",
              "      <td>0.0</td>\n",
              "      <td>0.0</td>\n",
              "      <td>1.0</td>\n",
              "      <td>0.0</td>\n",
              "      <td>...</td>\n",
              "      <td>0.0</td>\n",
              "      <td>0.0</td>\n",
              "      <td>0.0</td>\n",
              "      <td>0.0</td>\n",
              "      <td>0.0</td>\n",
              "      <td>0.0</td>\n",
              "      <td>1.0</td>\n",
              "      <td>0.0</td>\n",
              "      <td>0.0</td>\n",
              "      <td>0.0</td>\n",
              "      <td>0.0</td>\n",
              "      <td>0.0</td>\n",
              "      <td>0.0</td>\n",
              "      <td>0.0</td>\n",
              "      <td>1.0</td>\n",
              "      <td>0.0</td>\n",
              "      <td>0.0</td>\n",
              "      <td>0.0</td>\n",
              "      <td>0.0</td>\n",
              "      <td>0.0</td>\n",
              "      <td>0.0</td>\n",
              "      <td>0.0</td>\n",
              "      <td>1.0</td>\n",
              "      <td>0.0</td>\n",
              "      <td>0.0</td>\n",
              "      <td>0.0</td>\n",
              "      <td>0.0</td>\n",
              "      <td>0.0</td>\n",
              "      <td>0.0</td>\n",
              "      <td>0.0</td>\n",
              "      <td>0.0</td>\n",
              "      <td>0.0</td>\n",
              "      <td>0.0</td>\n",
              "      <td>0.0</td>\n",
              "      <td>0.0</td>\n",
              "      <td>0.0</td>\n",
              "      <td>0.0</td>\n",
              "      <td>0.0</td>\n",
              "      <td>0.0</td>\n",
              "      <td>0.0</td>\n",
              "    </tr>\n",
              "    <tr>\n",
              "      <th>1</th>\n",
              "      <td>0.0</td>\n",
              "      <td>0.0</td>\n",
              "      <td>0.0</td>\n",
              "      <td>0.0</td>\n",
              "      <td>0.0</td>\n",
              "      <td>0.0</td>\n",
              "      <td>0.0</td>\n",
              "      <td>0.0</td>\n",
              "      <td>0.0</td>\n",
              "      <td>0.0</td>\n",
              "      <td>1.0</td>\n",
              "      <td>1.0</td>\n",
              "      <td>1.0</td>\n",
              "      <td>1.0</td>\n",
              "      <td>0.0</td>\n",
              "      <td>0.0</td>\n",
              "      <td>0.0</td>\n",
              "      <td>1.0</td>\n",
              "      <td>0.0</td>\n",
              "      <td>0.0</td>\n",
              "      <td>0.0</td>\n",
              "      <td>0.0</td>\n",
              "      <td>1.0</td>\n",
              "      <td>0.0</td>\n",
              "      <td>0.0</td>\n",
              "      <td>1.0</td>\n",
              "      <td>0.0</td>\n",
              "      <td>0.0</td>\n",
              "      <td>0.0</td>\n",
              "      <td>0.0</td>\n",
              "      <td>1.0</td>\n",
              "      <td>0.0</td>\n",
              "      <td>0.0</td>\n",
              "      <td>1.0</td>\n",
              "      <td>0.0</td>\n",
              "      <td>0.0</td>\n",
              "      <td>0.0</td>\n",
              "      <td>0.0</td>\n",
              "      <td>1.0</td>\n",
              "      <td>0.0</td>\n",
              "      <td>...</td>\n",
              "      <td>0.0</td>\n",
              "      <td>0.0</td>\n",
              "      <td>0.0</td>\n",
              "      <td>0.0</td>\n",
              "      <td>0.0</td>\n",
              "      <td>0.0</td>\n",
              "      <td>0.0</td>\n",
              "      <td>0.0</td>\n",
              "      <td>0.0</td>\n",
              "      <td>0.0</td>\n",
              "      <td>0.0</td>\n",
              "      <td>0.0</td>\n",
              "      <td>0.0</td>\n",
              "      <td>0.0</td>\n",
              "      <td>0.0</td>\n",
              "      <td>0.0</td>\n",
              "      <td>0.0</td>\n",
              "      <td>0.0</td>\n",
              "      <td>0.0</td>\n",
              "      <td>0.0</td>\n",
              "      <td>0.0</td>\n",
              "      <td>0.0</td>\n",
              "      <td>0.0</td>\n",
              "      <td>0.0</td>\n",
              "      <td>0.0</td>\n",
              "      <td>0.0</td>\n",
              "      <td>0.0</td>\n",
              "      <td>0.0</td>\n",
              "      <td>0.0</td>\n",
              "      <td>0.0</td>\n",
              "      <td>0.0</td>\n",
              "      <td>0.0</td>\n",
              "      <td>0.0</td>\n",
              "      <td>0.0</td>\n",
              "      <td>0.0</td>\n",
              "      <td>0.0</td>\n",
              "      <td>0.0</td>\n",
              "      <td>0.0</td>\n",
              "      <td>0.0</td>\n",
              "      <td>0.0</td>\n",
              "    </tr>\n",
              "    <tr>\n",
              "      <th>2</th>\n",
              "      <td>0.0</td>\n",
              "      <td>0.0</td>\n",
              "      <td>0.0</td>\n",
              "      <td>0.0</td>\n",
              "      <td>0.0</td>\n",
              "      <td>0.0</td>\n",
              "      <td>0.0</td>\n",
              "      <td>0.0</td>\n",
              "      <td>0.0</td>\n",
              "      <td>0.0</td>\n",
              "      <td>0.0</td>\n",
              "      <td>0.0</td>\n",
              "      <td>0.0</td>\n",
              "      <td>0.0</td>\n",
              "      <td>0.0</td>\n",
              "      <td>0.0</td>\n",
              "      <td>0.0</td>\n",
              "      <td>1.0</td>\n",
              "      <td>0.0</td>\n",
              "      <td>0.0</td>\n",
              "      <td>0.0</td>\n",
              "      <td>0.0</td>\n",
              "      <td>0.0</td>\n",
              "      <td>0.0</td>\n",
              "      <td>0.0</td>\n",
              "      <td>1.0</td>\n",
              "      <td>0.0</td>\n",
              "      <td>0.0</td>\n",
              "      <td>0.0</td>\n",
              "      <td>0.0</td>\n",
              "      <td>0.0</td>\n",
              "      <td>0.0</td>\n",
              "      <td>0.0</td>\n",
              "      <td>1.0</td>\n",
              "      <td>0.0</td>\n",
              "      <td>0.0</td>\n",
              "      <td>0.0</td>\n",
              "      <td>0.0</td>\n",
              "      <td>0.0</td>\n",
              "      <td>0.0</td>\n",
              "      <td>...</td>\n",
              "      <td>0.0</td>\n",
              "      <td>0.0</td>\n",
              "      <td>0.0</td>\n",
              "      <td>0.0</td>\n",
              "      <td>0.0</td>\n",
              "      <td>0.0</td>\n",
              "      <td>0.0</td>\n",
              "      <td>0.0</td>\n",
              "      <td>0.0</td>\n",
              "      <td>0.0</td>\n",
              "      <td>0.0</td>\n",
              "      <td>0.0</td>\n",
              "      <td>0.0</td>\n",
              "      <td>0.0</td>\n",
              "      <td>0.0</td>\n",
              "      <td>0.0</td>\n",
              "      <td>0.0</td>\n",
              "      <td>0.0</td>\n",
              "      <td>0.0</td>\n",
              "      <td>0.0</td>\n",
              "      <td>0.0</td>\n",
              "      <td>0.0</td>\n",
              "      <td>0.0</td>\n",
              "      <td>0.0</td>\n",
              "      <td>0.0</td>\n",
              "      <td>0.0</td>\n",
              "      <td>1.0</td>\n",
              "      <td>1.0</td>\n",
              "      <td>1.0</td>\n",
              "      <td>1.0</td>\n",
              "      <td>0.0</td>\n",
              "      <td>0.0</td>\n",
              "      <td>0.0</td>\n",
              "      <td>0.0</td>\n",
              "      <td>0.0</td>\n",
              "      <td>0.0</td>\n",
              "      <td>0.0</td>\n",
              "      <td>0.0</td>\n",
              "      <td>0.0</td>\n",
              "      <td>0.0</td>\n",
              "    </tr>\n",
              "    <tr>\n",
              "      <th>3</th>\n",
              "      <td>0.0</td>\n",
              "      <td>0.0</td>\n",
              "      <td>0.0</td>\n",
              "      <td>0.0</td>\n",
              "      <td>0.0</td>\n",
              "      <td>0.0</td>\n",
              "      <td>0.0</td>\n",
              "      <td>0.0</td>\n",
              "      <td>0.0</td>\n",
              "      <td>0.0</td>\n",
              "      <td>1.0</td>\n",
              "      <td>1.0</td>\n",
              "      <td>1.0</td>\n",
              "      <td>1.0</td>\n",
              "      <td>0.0</td>\n",
              "      <td>0.0</td>\n",
              "      <td>0.0</td>\n",
              "      <td>0.0</td>\n",
              "      <td>0.0</td>\n",
              "      <td>0.0</td>\n",
              "      <td>0.0</td>\n",
              "      <td>0.0</td>\n",
              "      <td>0.0</td>\n",
              "      <td>0.0</td>\n",
              "      <td>0.0</td>\n",
              "      <td>0.0</td>\n",
              "      <td>0.0</td>\n",
              "      <td>0.0</td>\n",
              "      <td>0.0</td>\n",
              "      <td>0.0</td>\n",
              "      <td>0.0</td>\n",
              "      <td>0.0</td>\n",
              "      <td>0.0</td>\n",
              "      <td>0.0</td>\n",
              "      <td>0.0</td>\n",
              "      <td>0.0</td>\n",
              "      <td>0.0</td>\n",
              "      <td>0.0</td>\n",
              "      <td>0.0</td>\n",
              "      <td>0.0</td>\n",
              "      <td>...</td>\n",
              "      <td>0.0</td>\n",
              "      <td>0.0</td>\n",
              "      <td>0.0</td>\n",
              "      <td>0.0</td>\n",
              "      <td>0.0</td>\n",
              "      <td>0.0</td>\n",
              "      <td>0.0</td>\n",
              "      <td>0.0</td>\n",
              "      <td>0.0</td>\n",
              "      <td>0.0</td>\n",
              "      <td>0.0</td>\n",
              "      <td>0.0</td>\n",
              "      <td>0.0</td>\n",
              "      <td>0.0</td>\n",
              "      <td>0.0</td>\n",
              "      <td>0.0</td>\n",
              "      <td>0.0</td>\n",
              "      <td>0.0</td>\n",
              "      <td>0.0</td>\n",
              "      <td>0.0</td>\n",
              "      <td>0.0</td>\n",
              "      <td>0.0</td>\n",
              "      <td>0.0</td>\n",
              "      <td>0.0</td>\n",
              "      <td>0.0</td>\n",
              "      <td>0.0</td>\n",
              "      <td>0.0</td>\n",
              "      <td>0.0</td>\n",
              "      <td>0.0</td>\n",
              "      <td>0.0</td>\n",
              "      <td>0.0</td>\n",
              "      <td>0.0</td>\n",
              "      <td>0.0</td>\n",
              "      <td>0.0</td>\n",
              "      <td>0.0</td>\n",
              "      <td>0.0</td>\n",
              "      <td>0.0</td>\n",
              "      <td>0.0</td>\n",
              "      <td>0.0</td>\n",
              "      <td>0.0</td>\n",
              "    </tr>\n",
              "    <tr>\n",
              "      <th>4</th>\n",
              "      <td>0.0</td>\n",
              "      <td>0.0</td>\n",
              "      <td>0.0</td>\n",
              "      <td>0.0</td>\n",
              "      <td>0.0</td>\n",
              "      <td>0.0</td>\n",
              "      <td>0.0</td>\n",
              "      <td>0.0</td>\n",
              "      <td>0.0</td>\n",
              "      <td>0.0</td>\n",
              "      <td>0.0</td>\n",
              "      <td>0.0</td>\n",
              "      <td>0.0</td>\n",
              "      <td>0.0</td>\n",
              "      <td>0.0</td>\n",
              "      <td>0.0</td>\n",
              "      <td>0.0</td>\n",
              "      <td>0.0</td>\n",
              "      <td>0.0</td>\n",
              "      <td>0.0</td>\n",
              "      <td>0.0</td>\n",
              "      <td>0.0</td>\n",
              "      <td>1.0</td>\n",
              "      <td>0.0</td>\n",
              "      <td>0.0</td>\n",
              "      <td>0.0</td>\n",
              "      <td>0.0</td>\n",
              "      <td>0.0</td>\n",
              "      <td>0.0</td>\n",
              "      <td>0.0</td>\n",
              "      <td>1.0</td>\n",
              "      <td>0.0</td>\n",
              "      <td>0.0</td>\n",
              "      <td>0.0</td>\n",
              "      <td>0.0</td>\n",
              "      <td>0.0</td>\n",
              "      <td>0.0</td>\n",
              "      <td>0.0</td>\n",
              "      <td>1.0</td>\n",
              "      <td>0.0</td>\n",
              "      <td>...</td>\n",
              "      <td>0.0</td>\n",
              "      <td>0.0</td>\n",
              "      <td>0.0</td>\n",
              "      <td>0.0</td>\n",
              "      <td>0.0</td>\n",
              "      <td>0.0</td>\n",
              "      <td>0.0</td>\n",
              "      <td>0.0</td>\n",
              "      <td>0.0</td>\n",
              "      <td>0.0</td>\n",
              "      <td>0.0</td>\n",
              "      <td>0.0</td>\n",
              "      <td>0.0</td>\n",
              "      <td>0.0</td>\n",
              "      <td>0.0</td>\n",
              "      <td>0.0</td>\n",
              "      <td>0.0</td>\n",
              "      <td>0.0</td>\n",
              "      <td>0.0</td>\n",
              "      <td>0.0</td>\n",
              "      <td>0.0</td>\n",
              "      <td>0.0</td>\n",
              "      <td>0.0</td>\n",
              "      <td>0.0</td>\n",
              "      <td>0.0</td>\n",
              "      <td>0.0</td>\n",
              "      <td>1.0</td>\n",
              "      <td>1.0</td>\n",
              "      <td>1.0</td>\n",
              "      <td>1.0</td>\n",
              "      <td>0.0</td>\n",
              "      <td>0.0</td>\n",
              "      <td>0.0</td>\n",
              "      <td>0.0</td>\n",
              "      <td>0.0</td>\n",
              "      <td>0.0</td>\n",
              "      <td>0.0</td>\n",
              "      <td>0.0</td>\n",
              "      <td>0.0</td>\n",
              "      <td>0.0</td>\n",
              "    </tr>\n",
              "  </tbody>\n",
              "</table>\n",
              "<p>5 rows × 104 columns</p>\n",
              "</div>"
            ],
            "text/plain": [
              "   0    1    2    3    4    5    6    ...  97   98   99   100  101  102  103\n",
              "0  0.0  0.0  0.0  0.0  0.0  0.0  0.0  ...  0.0  0.0  0.0  0.0  0.0  0.0  0.0\n",
              "1  0.0  0.0  0.0  0.0  0.0  0.0  0.0  ...  0.0  0.0  0.0  0.0  0.0  0.0  0.0\n",
              "2  0.0  0.0  0.0  0.0  0.0  0.0  0.0  ...  0.0  0.0  0.0  0.0  0.0  0.0  0.0\n",
              "3  0.0  0.0  0.0  0.0  0.0  0.0  0.0  ...  0.0  0.0  0.0  0.0  0.0  0.0  0.0\n",
              "4  0.0  0.0  0.0  0.0  0.0  0.0  0.0  ...  0.0  0.0  0.0  0.0  0.0  0.0  0.0\n",
              "\n",
              "[5 rows x 104 columns]"
            ]
          },
          "metadata": {
            "tags": []
          },
          "execution_count": 70
        }
      ]
    },
    {
      "cell_type": "code",
      "metadata": {
        "id": "y0aaFmb6awgj"
      },
      "source": [
        "samples = df.values"
      ],
      "execution_count": 71,
      "outputs": []
    },
    {
      "cell_type": "code",
      "metadata": {
        "id": "nGBws8kjawjy"
      },
      "source": [
        "# Select the 0th row: digit\n",
        "digit = samples[0]\n",
        "\n",
        "# Print digit\n",
        "print(digit)\n",
        "\n",
        "# Reshape digit to a 13x8 array: bitmap\n",
        "bitmap = digit.reshape(13, 8)\n",
        "\n",
        "# Print bitmap\n",
        "print(bitmap)\n",
        "\n",
        "# Use plt.imshow to display bitmap\n",
        "plt.imshow(bitmap, cmap='gray', interpolation='nearest')\n",
        "plt.colorbar()"
      ],
      "execution_count": null,
      "outputs": []
    },
    {
      "cell_type": "markdown",
      "metadata": {
        "id": "9Tk-Elrxa-tj"
      },
      "source": [
        "### NMF learns the parts of images\n",
        "Now use what you've learned about NMF to decompose the digits dataset. You are again given the digit images as a 2D array ```samples```. This time, you are also provided with a function ```show_as_image()``` that displays the image encoded by any 1D array:\n",
        "```python\n",
        "def show_as_image(sample):\n",
        "    bitmap = sample.reshape((13, 8))\n",
        "    plt.figure()\n",
        "    plt.imshow(bitmap, cmap='gray', interpolation='nearest')\n",
        "    plt.colorbar()\n",
        "    plt.show()\n",
        "```"
      ]
    },
    {
      "cell_type": "code",
      "metadata": {
        "colab": {
          "base_uri": "https://localhost:8080/",
          "height": 1000
        },
        "id": "sqS4LT9NawnM",
        "outputId": "baf146ea-5cd7-4a1e-e3ee-15d5938bd07a"
      },
      "source": [
        "def show_as_image(sample):\n",
        "    bitmap = sample.reshape((13, 8))\n",
        "    plt.figure()\n",
        "    plt.imshow(bitmap, cmap='gray', interpolation='nearest')\n",
        "    plt.colorbar()\n",
        "\n",
        "# Create an NMF model: model\n",
        "model = NMF(n_components=7)\n",
        "\n",
        "# Apply fit_transform to samples: features\n",
        "features = model.fit_transform(samples)\n",
        "\n",
        "# Call show_as_image on each component\n",
        "for component in model.components_:\n",
        "    show_as_image(component)\n",
        "    \n",
        "# Assign the 0th row of features: digit_features\n",
        "digit_features = features[0]\n",
        "\n",
        "# Print digit_features\n",
        "print(digit_features)"
      ],
      "execution_count": 72,
      "outputs": [
        {
          "output_type": "stream",
          "text": [
            "[4.76823559e-01 0.00000000e+00 0.00000000e+00 5.90605054e-01\n",
            " 4.81559442e-01 0.00000000e+00 7.37562716e-16]\n"
          ],
          "name": "stdout"
        },
        {
          "output_type": "display_data",
          "data": {
            "image/png": "[encoded data removed]",
            "text/plain": [
              "<Figure size 432x288 with 2 Axes>"
            ]
          },
          "metadata": {
            "tags": [],
            "needs_background": "light"
          }
        },
        {
          "output_type": "display_data",
          "data": {
            "image/png": "[encoded data removed]",
            "text/plain": [
              "<Figure size 432x288 with 2 Axes>"
            ]
          },
          "metadata": {
            "tags": [],
            "needs_background": "light"
          }
        },
        {
          "output_type": "display_data",
          "data": {
            "image/png": "[encoded data removed]",
            "text/plain": [
              "<Figure size 432x288 with 2 Axes>"
            ]
          },
          "metadata": {
            "tags": [],
            "needs_background": "light"
          }
        },
        {
          "output_type": "display_data",
          "data": {
            "image/png": "[encoded data removed]",
            "text/plain": [
              "<Figure size 432x288 with 2 Axes>"
            ]
          },
          "metadata": {
            "tags": [],
            "needs_background": "light"
          }
        },
        {
          "output_type": "display_data",
          "data": {
            "image/png": "[encoded data removed]",
            "text/plain": [
              "<Figure size 432x288 with 2 Axes>"
            ]
          },
          "metadata": {
            "tags": [],
            "needs_background": "light"
          }
        },
        {
          "output_type": "display_data",
          "data": {
            "image/png": "[encoded data removed]",
            "text/plain": [
              "<Figure size 432x288 with 2 Axes>"
            ]
          },
          "metadata": {
            "tags": [],
            "needs_background": "light"
          }
        },
        {
          "output_type": "display_data",
          "data": {
            "image/png": "[encoded data removed]",
            "text/plain": [
              "<Figure size 432x288 with 2 Axes>"
            ]
          },
          "metadata": {
            "tags": [],
            "needs_background": "light"
          }
        }
      ]
    },
    {
      "cell_type": "markdown",
      "metadata": {
        "id": "1S4OoDyLbJKd"
      },
      "source": [
        "### PCA doesn't learn parts\n",
        "Unlike NMF, PCA doesn't learn the parts of things. Its components do not correspond to topics (in the case of documents) or to parts of images, when trained on images. Verify this for yourself by inspecting the components of a PCA model fit to the dataset of LED digit images from the previous exercise. The images are available as a 2D array ```samples```. Also available is a modified version of the ```show_as_image()``` function which colors a pixel red if the value is negative.\n",
        "\n",
        "After submitting the answer, notice that the components of PCA do not represent meaningful parts of images of LED digits!"
      ]
    },
    {
      "cell_type": "code",
      "metadata": {
        "colab": {
          "base_uri": "https://localhost:8080/",
          "height": 1000
        },
        "id": "gzQMqgywbNQX",
        "outputId": "cdfaba4c-b9d5-45b6-9d6a-aabc6b61f1f2"
      },
      "source": [
        "from sklearn.decomposition import PCA\n",
        "\n",
        "# Createa PCA instance: model\n",
        "model = PCA(n_components=7)\n",
        "\n",
        "# Apply fit_transform to samples: features\n",
        "features = model.fit_transform(samples)\n",
        "\n",
        "# Call show_as_image on each component\n",
        "for component in model.components_:\n",
        "    show_as_image(component)"
      ],
      "execution_count": 73,
      "outputs": [
        {
          "output_type": "display_data",
          "data": {
            "image/png": "[encoded data removed]",
            "text/plain": [
              "<Figure size 432x288 with 2 Axes>"
            ]
          },
          "metadata": {
            "tags": [],
            "needs_background": "light"
          }
        },
        {
          "output_type": "display_data",
          "data": {
            "image/png": "[encoded data removed]",
            "text/plain": [
              "<Figure size 432x288 with 2 Axes>"
            ]
          },
          "metadata": {
            "tags": [],
            "needs_background": "light"
          }
        },
        {
          "output_type": "display_data",
          "data": {
            "image/png": "[encoded data removed]",
            "text/plain": [
              "<Figure size 432x288 with 2 Axes>"
            ]
          },
          "metadata": {
            "tags": [],
            "needs_background": "light"
          }
        },
        {
          "output_type": "display_data",
          "data": {
            "image/png": "[encoded data removed]",
            "text/plain": [
              "<Figure size 432x288 with 2 Axes>"
            ]
          },
          "metadata": {
            "tags": [],
            "needs_background": "light"
          }
        },
        {
          "output_type": "display_data",
          "data": {
            "image/png": "[encoded data removed]",
            "text/plain": [
              "<Figure size 432x288 with 2 Axes>"
            ]
          },
          "metadata": {
            "tags": [],
            "needs_background": "light"
          }
        },
        {
          "output_type": "display_data",
          "data": {
            "image/png": "[encoded data removed]",
            "text/plain": [
              "<Figure size 432x288 with 2 Axes>"
            ]
          },
          "metadata": {
            "tags": [],
            "needs_background": "light"
          }
        },
        {
          "output_type": "display_data",
          "data": {
            "image/png": "[encoded data removed]",
            "text/plain": [
              "<Figure size 432x288 with 2 Axes>"
            ]
          },
          "metadata": {
            "tags": [],
            "needs_background": "light"
          }
        }
      ]
    },
    {
      "cell_type": "code",
      "metadata": {
        "id": "4ZjbSJa7bNSZ"
      },
      "source": [
        ""
      ],
      "execution_count": null,
      "outputs": []
    }
  ]
}